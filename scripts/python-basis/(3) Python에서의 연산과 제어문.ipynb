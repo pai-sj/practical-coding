{
 "cells": [
  {
   "cell_type": "markdown",
   "metadata": {},
   "source": [
    "# III. Python의 연산과 제어문\n",
    "\n",
    "\n",
    "2019/01/26 (sat)"
   ]
  },
  {
   "cell_type": "markdown",
   "metadata": {},
   "source": [
    "<h1 style = \"background-color: rgba(185, 109, 106, 0.3);\" > I. Python에서의 연산 </h1>\n",
    "> Python에서 나오는 다양한 연산자(+,-,*,/,//,**)에 대해 배워봅시다. 숫자인지, 참거짓 형인지, 문자열인지, 자료구조(list 등)에 따라 연산자가 따로 구현이 되어 있습니다. 각각 나눠서 알아봅시다."
   ]
  },
  {
   "cell_type": "markdown",
   "metadata": {},
   "source": [
    "<h2 style=\"background-color: rgba(1, 56, 120, 0.1)\"> 1. 정수/실수의 연산자들 </h2>\n",
    "\n",
    "> 파이썬에서는 숫자를 연산하기 위해 아래와 같은 연산자들을 지원합니다.\n",
    "\n",
    "| 연산자 | 설명 |\n",
    "| ---- | ---- |\n",
    "| +    | 더하기 |\n",
    "| -    | 빼기  |\n",
    "| *    | 곱하기 |\n",
    "| /    | 나누기 |\n",
    "| //   | 몫    |\n",
    "| %    | 나머지 |\n",
    "| **   | 지수   |"
   ]
  },
  {
   "cell_type": "markdown",
   "metadata": {},
   "source": [
    "#### (1) 더하기 "
   ]
  },
  {
   "cell_type": "code",
   "execution_count": 1,
   "metadata": {},
   "outputs": [
    {
     "data": {
      "text/plain": [
       "3"
      ]
     },
     "execution_count": 1,
     "metadata": {},
     "output_type": "execute_result"
    }
   ],
   "source": [
    "1 + 2"
   ]
  },
  {
   "cell_type": "code",
   "execution_count": 2,
   "metadata": {},
   "outputs": [
    {
     "data": {
      "text/plain": [
       "2.2"
      ]
     },
     "execution_count": 2,
     "metadata": {},
     "output_type": "execute_result"
    }
   ],
   "source": [
    "1 + 1.2 # 정수형과 실수형을 연산하면, 실수형으로 결과값이 나타납니다."
   ]
  },
  {
   "cell_type": "code",
   "execution_count": 3,
   "metadata": {},
   "outputs": [
    {
     "data": {
      "text/plain": [
       "3.5999999999999996"
      ]
     },
     "execution_count": 3,
     "metadata": {},
     "output_type": "execute_result"
    }
   ],
   "source": [
    "1.2 + 2.4 # 실수형의 경우에는 컴퓨터의 부동소수점 방식으로 인해, 약간의 오차가 발생합니다."
   ]
  },
  {
   "cell_type": "markdown",
   "metadata": {},
   "source": [
    "#### (2)  빼기"
   ]
  },
  {
   "cell_type": "code",
   "execution_count": 4,
   "metadata": {},
   "outputs": [
    {
     "data": {
      "text/plain": [
       "1"
      ]
     },
     "execution_count": 4,
     "metadata": {},
     "output_type": "execute_result"
    }
   ],
   "source": [
    "3 - 2 "
   ]
  },
  {
   "cell_type": "code",
   "execution_count": 5,
   "metadata": {},
   "outputs": [
    {
     "data": {
      "text/plain": [
       "1.6"
      ]
     },
     "execution_count": 5,
     "metadata": {},
     "output_type": "execute_result"
    }
   ],
   "source": [
    "3 - 1.4"
   ]
  },
  {
   "cell_type": "code",
   "execution_count": 6,
   "metadata": {},
   "outputs": [
    {
     "data": {
      "text/plain": [
       "1.8000000000000003"
      ]
     },
     "execution_count": 6,
     "metadata": {},
     "output_type": "execute_result"
    }
   ],
   "source": [
    "3.2 - 1.4"
   ]
  },
  {
   "cell_type": "markdown",
   "metadata": {},
   "source": [
    "#### (3) 곱하기"
   ]
  },
  {
   "cell_type": "code",
   "execution_count": 7,
   "metadata": {},
   "outputs": [
    {
     "data": {
      "text/plain": [
       "6"
      ]
     },
     "execution_count": 7,
     "metadata": {},
     "output_type": "execute_result"
    }
   ],
   "source": [
    "3 * 2"
   ]
  },
  {
   "cell_type": "code",
   "execution_count": 8,
   "metadata": {},
   "outputs": [
    {
     "data": {
      "text/plain": [
       "6.4"
      ]
     },
     "execution_count": 8,
     "metadata": {},
     "output_type": "execute_result"
    }
   ],
   "source": [
    "3.2 * 2"
   ]
  },
  {
   "cell_type": "code",
   "execution_count": 9,
   "metadata": {},
   "outputs": [
    {
     "data": {
      "text/plain": [
       "6.720000000000001"
      ]
     },
     "execution_count": 9,
     "metadata": {},
     "output_type": "execute_result"
    }
   ],
   "source": [
    "3.2 * 2.1"
   ]
  },
  {
   "cell_type": "markdown",
   "metadata": {},
   "source": [
    "#### (4) 나누기"
   ]
  },
  {
   "cell_type": "code",
   "execution_count": 10,
   "metadata": {},
   "outputs": [
    {
     "data": {
      "text/plain": [
       "2.0"
      ]
     },
     "execution_count": 10,
     "metadata": {},
     "output_type": "execute_result"
    }
   ],
   "source": [
    "4 / 2 # 나누기를 할 경우 자동으로 실수형으로 형 변환 됩니다."
   ]
  },
  {
   "cell_type": "code",
   "execution_count": 11,
   "metadata": {},
   "outputs": [
    {
     "data": {
      "text/plain": [
       "2.0"
      ]
     },
     "execution_count": 11,
     "metadata": {},
     "output_type": "execute_result"
    }
   ],
   "source": [
    "4.2 / 2.1"
   ]
  },
  {
   "cell_type": "code",
   "execution_count": 12,
   "metadata": {},
   "outputs": [
    {
     "ename": "ZeroDivisionError",
     "evalue": "float division by zero",
     "output_type": "error",
     "traceback": [
      "\u001b[0;31m---------------------------------------------------------------------------\u001b[0m",
      "\u001b[0;31mZeroDivisionError\u001b[0m                         Traceback (most recent call last)",
      "\u001b[0;32m<ipython-input-12-660f38a51271>\u001b[0m in \u001b[0;36m<module>\u001b[0;34m\u001b[0m\n\u001b[0;32m----> 1\u001b[0;31m \u001b[0;36m4.2\u001b[0m \u001b[0;34m/\u001b[0m \u001b[0;36m0\u001b[0m \u001b[0;31m# 0으로 나누기를 시도할 경우, zeroDivisionError로 에러가 발생합니다.\u001b[0m\u001b[0;34m\u001b[0m\u001b[0m\n\u001b[0m",
      "\u001b[0;31mZeroDivisionError\u001b[0m: float division by zero"
     ]
    }
   ],
   "source": [
    "4.2 / 0 # 0으로 나누기를 시도할 경우, zeroDivisionError로 에러가 발생합니다."
   ]
  },
  {
   "cell_type": "markdown",
   "metadata": {},
   "source": [
    "#### (5) 몫"
   ]
  },
  {
   "cell_type": "code",
   "execution_count": 13,
   "metadata": {},
   "outputs": [
    {
     "data": {
      "text/plain": [
       "2"
      ]
     },
     "execution_count": 13,
     "metadata": {},
     "output_type": "execute_result"
    }
   ],
   "source": [
    "5 // 2 # 나누기의 몫 부분을 반환합니다."
   ]
  },
  {
   "cell_type": "markdown",
   "metadata": {},
   "source": [
    "#### (6) 나머지 "
   ]
  },
  {
   "cell_type": "code",
   "execution_count": 14,
   "metadata": {},
   "outputs": [
    {
     "data": {
      "text/plain": [
       "1"
      ]
     },
     "execution_count": 14,
     "metadata": {},
     "output_type": "execute_result"
    }
   ],
   "source": [
    "5 % 2"
   ]
  },
  {
   "cell_type": "markdown",
   "metadata": {},
   "source": [
    "#### (7) 지수\n",
    "\n",
    "$3**2 = 3^2$"
   ]
  },
  {
   "cell_type": "code",
   "execution_count": 15,
   "metadata": {},
   "outputs": [
    {
     "data": {
      "text/plain": [
       "9"
      ]
     },
     "execution_count": 15,
     "metadata": {},
     "output_type": "execute_result"
    }
   ],
   "source": [
    "3 ** 2"
   ]
  },
  {
   "cell_type": "code",
   "execution_count": 16,
   "metadata": {},
   "outputs": [
    {
     "data": {
      "text/plain": [
       "10.04510856630514"
      ]
     },
     "execution_count": 16,
     "metadata": {},
     "output_type": "execute_result"
    }
   ],
   "source": [
    "3 ** 2.1"
   ]
  },
  {
   "cell_type": "code",
   "execution_count": 17,
   "metadata": {},
   "outputs": [
    {
     "data": {
      "text/plain": [
       "9.610000000000001"
      ]
     },
     "execution_count": 17,
     "metadata": {},
     "output_type": "execute_result"
    }
   ],
   "source": [
    "3.1 ** 2"
   ]
  },
  {
   "cell_type": "markdown",
   "metadata": {},
   "source": [
    "#### 모든 숫자 연산은 변수에도 동일하게 적용할 수 있습니다.\n",
    "\n",
    "예제)  \n",
    "$x=3,y=2$일 때,\n",
    "$x^2 + y^3 + 2xy+3x + 4y$를 계산하시오"
   ]
  },
  {
   "cell_type": "code",
   "execution_count": 18,
   "metadata": {},
   "outputs": [
    {
     "data": {
      "text/plain": [
       "46"
      ]
     },
     "execution_count": 18,
     "metadata": {},
     "output_type": "execute_result"
    }
   ],
   "source": [
    "x = 3\n",
    "y = 2\n",
    "x**2 + y**3 + 2*x*y + 3*x + 4*y"
   ]
  },
  {
   "cell_type": "markdown",
   "metadata": {},
   "source": [
    "#### 우리가 아는 숫자의 연산과 같이 괄호()를 통해 연산의 우선순위를 정할 수 있습니다.\n",
    "\n",
    "예제)  \n",
    "$x=3,y=2$일 때,\n",
    "$x^2 + y^3 + 2xy+ 3(x + 4y)$를 계산하시오"
   ]
  },
  {
   "cell_type": "code",
   "execution_count": 19,
   "metadata": {},
   "outputs": [
    {
     "data": {
      "text/plain": [
       "62"
      ]
     },
     "execution_count": 19,
     "metadata": {},
     "output_type": "execute_result"
    }
   ],
   "source": [
    "x = 3\n",
    "y = 2\n",
    "x**2 + y**3 + 2*x*y + 3*(x + 4*y)"
   ]
  },
  {
   "cell_type": "markdown",
   "metadata": {},
   "source": [
    "<h2 style=\"background-color: rgba(1, 56, 120, 0.1)\"> 2. 비교 연산자와 참 거짓 자료형(boolean)을 위한 연산자들 </h2>\n",
    "\n",
    "> 파이썬에서는 지원하는 비교 연산자는 아래와 같이 존재합니다.\n",
    "\n",
    "| 연산자 | 설명 |\n",
    "| ---- | ---- |\n",
    "| a==b | 같음 |\n",
    "| a!=b | 다름  |\n",
    "| a>b  | a가 b보다 큼 |\n",
    "| a>=b | a가 b보다 크거나 같음 |\n",
    "| a<b  | a가 b보다 작음 |\n",
    "| a<=b | a가 b보다 작거나 같음 |"
   ]
  },
  {
   "cell_type": "markdown",
   "metadata": {},
   "source": [
    "#### (1) == "
   ]
  },
  {
   "cell_type": "code",
   "execution_count": 20,
   "metadata": {},
   "outputs": [
    {
     "data": {
      "text/plain": [
       "True"
      ]
     },
     "execution_count": 20,
     "metadata": {},
     "output_type": "execute_result"
    }
   ],
   "source": [
    "1 == 1"
   ]
  },
  {
   "cell_type": "markdown",
   "metadata": {},
   "source": [
    "#### (2) !="
   ]
  },
  {
   "cell_type": "code",
   "execution_count": 21,
   "metadata": {},
   "outputs": [
    {
     "data": {
      "text/plain": [
       "True"
      ]
     },
     "execution_count": 21,
     "metadata": {},
     "output_type": "execute_result"
    }
   ],
   "source": [
    "1 != 2"
   ]
  },
  {
   "cell_type": "markdown",
   "metadata": {},
   "source": [
    "#### (3) > "
   ]
  },
  {
   "cell_type": "code",
   "execution_count": 22,
   "metadata": {},
   "outputs": [
    {
     "data": {
      "text/plain": [
       "False"
      ]
     },
     "execution_count": 22,
     "metadata": {},
     "output_type": "execute_result"
    }
   ],
   "source": [
    "2 > 2"
   ]
  },
  {
   "cell_type": "markdown",
   "metadata": {},
   "source": [
    "#### (4) >="
   ]
  },
  {
   "cell_type": "code",
   "execution_count": 23,
   "metadata": {},
   "outputs": [
    {
     "data": {
      "text/plain": [
       "True"
      ]
     },
     "execution_count": 23,
     "metadata": {},
     "output_type": "execute_result"
    }
   ],
   "source": [
    "2 >= 2"
   ]
  },
  {
   "cell_type": "markdown",
   "metadata": {},
   "source": [
    "#### (5) <"
   ]
  },
  {
   "cell_type": "code",
   "execution_count": 24,
   "metadata": {},
   "outputs": [
    {
     "data": {
      "text/plain": [
       "True"
      ]
     },
     "execution_count": 24,
     "metadata": {},
     "output_type": "execute_result"
    }
   ],
   "source": [
    "2 < 3"
   ]
  },
  {
   "cell_type": "markdown",
   "metadata": {},
   "source": [
    "#### (6) <="
   ]
  },
  {
   "cell_type": "code",
   "execution_count": 25,
   "metadata": {},
   "outputs": [
    {
     "data": {
      "text/plain": [
       "True"
      ]
     },
     "execution_count": 25,
     "metadata": {},
     "output_type": "execute_result"
    }
   ],
   "source": [
    "2 <= 3"
   ]
  },
  {
   "cell_type": "markdown",
   "metadata": {},
   "source": [
    "이 뿐만 아니라 `and`, `or` 연산자도 함께 지원합니다."
   ]
  },
  {
   "cell_type": "markdown",
   "metadata": {},
   "source": [
    "#### (7) and 연산\n",
    "\n",
    "and 연산은 두 개 모두 참일 때 참을 반환합니다."
   ]
  },
  {
   "cell_type": "code",
   "execution_count": 26,
   "metadata": {},
   "outputs": [
    {
     "data": {
      "text/plain": [
       "True"
      ]
     },
     "execution_count": 26,
     "metadata": {},
     "output_type": "execute_result"
    }
   ],
   "source": [
    "True and True"
   ]
  },
  {
   "cell_type": "code",
   "execution_count": 27,
   "metadata": {},
   "outputs": [
    {
     "data": {
      "text/plain": [
       "False"
      ]
     },
     "execution_count": 27,
     "metadata": {},
     "output_type": "execute_result"
    }
   ],
   "source": [
    "True and False"
   ]
  },
  {
   "cell_type": "code",
   "execution_count": 28,
   "metadata": {},
   "outputs": [
    {
     "data": {
      "text/plain": [
       "False"
      ]
     },
     "execution_count": 28,
     "metadata": {},
     "output_type": "execute_result"
    }
   ],
   "source": [
    "False and False"
   ]
  },
  {
   "cell_type": "markdown",
   "metadata": {},
   "source": [
    "#### (8) or 연산\n",
    "or 연산은 두 개 중 하나라도 참일 때 참을 반환합니다."
   ]
  },
  {
   "cell_type": "code",
   "execution_count": 29,
   "metadata": {},
   "outputs": [
    {
     "data": {
      "text/plain": [
       "True"
      ]
     },
     "execution_count": 29,
     "metadata": {},
     "output_type": "execute_result"
    }
   ],
   "source": [
    "True or True"
   ]
  },
  {
   "cell_type": "code",
   "execution_count": 30,
   "metadata": {},
   "outputs": [
    {
     "data": {
      "text/plain": [
       "True"
      ]
     },
     "execution_count": 30,
     "metadata": {},
     "output_type": "execute_result"
    }
   ],
   "source": [
    "True or False"
   ]
  },
  {
   "cell_type": "code",
   "execution_count": 31,
   "metadata": {},
   "outputs": [
    {
     "data": {
      "text/plain": [
       "False"
      ]
     },
     "execution_count": 31,
     "metadata": {},
     "output_type": "execute_result"
    }
   ],
   "source": [
    "False or False"
   ]
  },
  {
   "cell_type": "markdown",
   "metadata": {},
   "source": [
    "<h2 style=\"background-color: rgba(1, 56, 120, 0.1)\"> 3. 문자열을 처리하는 여러가지 방법들 </h2>\n",
    "\n",
    "> 파이썬에서는 문자열을 처리하는 여러가지 방법들이 존재합니다. "
   ]
  },
  {
   "cell_type": "markdown",
   "metadata": {},
   "source": [
    "#### (1) 문자열 더하기"
   ]
  },
  {
   "cell_type": "code",
   "execution_count": 32,
   "metadata": {},
   "outputs": [
    {
     "data": {
      "text/plain": [
       "'Hello,world!'"
      ]
     },
     "execution_count": 32,
     "metadata": {},
     "output_type": "execute_result"
    }
   ],
   "source": [
    "str1 = \"Hello,\"\n",
    "str2 = \"world!\"\n",
    "str1 + str2"
   ]
  },
  {
   "cell_type": "markdown",
   "metadata": {},
   "source": [
    "#### (2) 문자열 곱하기\n",
    "\n",
    "문자열을 곱할 경우, 해당 문자열을 곱한 수만큼 반복한다."
   ]
  },
  {
   "cell_type": "code",
   "execution_count": 33,
   "metadata": {},
   "outputs": [
    {
     "data": {
      "text/plain": [
       "'Hello!Hello!Hello!'"
      ]
     },
     "execution_count": 33,
     "metadata": {},
     "output_type": "execute_result"
    }
   ],
   "source": [
    "str1 = \"Hello!\"\n",
    "str1 * 3"
   ]
  },
  {
   "cell_type": "markdown",
   "metadata": {},
   "source": [
    "#### (3) 문자열 길이 구하기"
   ]
  },
  {
   "cell_type": "code",
   "execution_count": 34,
   "metadata": {},
   "outputs": [
    {
     "data": {
      "text/plain": [
       "7"
      ]
     },
     "execution_count": 34,
     "metadata": {},
     "output_type": "execute_result"
    }
   ],
   "source": [
    "str1 = \"Hello~ \"\n",
    "len(str1) # 총 6개의 글자가 존재(space도 포함)"
   ]
  },
  {
   "cell_type": "markdown",
   "metadata": {},
   "source": [
    "#### (4) 문자열 인덱싱\n",
    "\n",
    "list, tuple에서의 인덱싱과 같은 동일한 방식으로 출력할 수 있다."
   ]
  },
  {
   "cell_type": "code",
   "execution_count": 35,
   "metadata": {},
   "outputs": [
    {
     "data": {
      "text/plain": [
       "'s'"
      ]
     },
     "execution_count": 35,
     "metadata": {},
     "output_type": "execute_result"
    }
   ],
   "source": [
    "str1 = \"This is Python World!\"\n",
    "str1[3]"
   ]
  },
  {
   "cell_type": "code",
   "execution_count": 36,
   "metadata": {},
   "outputs": [
    {
     "data": {
      "text/plain": [
       "'This'"
      ]
     },
     "execution_count": 36,
     "metadata": {},
     "output_type": "execute_result"
    }
   ],
   "source": [
    "str1[0:4]"
   ]
  },
  {
   "cell_type": "markdown",
   "metadata": {},
   "source": [
    "#### (5) 문자열 쪼개기\n",
    "\n",
    "문자열 자료형에는 `split`이라는 내장 함수가 존재한다. 이를 기준으로 문자열을 쪼갤 수 있다."
   ]
  },
  {
   "cell_type": "code",
   "execution_count": 37,
   "metadata": {},
   "outputs": [
    {
     "data": {
      "text/plain": [
       "['This', 'is', 'Python', 'World!']"
      ]
     },
     "execution_count": 37,
     "metadata": {},
     "output_type": "execute_result"
    }
   ],
   "source": [
    "str1 = \"This is Python World!\"\n",
    "str1.split(\" \") # 공백을 기준으로 나누기"
   ]
  },
  {
   "cell_type": "code",
   "execution_count": 38,
   "metadata": {},
   "outputs": [
    {
     "data": {
      "text/plain": [
       "['Thi', ' i', ' Python World!']"
      ]
     },
     "execution_count": 38,
     "metadata": {},
     "output_type": "execute_result"
    }
   ],
   "source": [
    "str1.split('s') # 알파벳 s을 기준으로 나누기"
   ]
  },
  {
   "cell_type": "markdown",
   "metadata": {},
   "source": [
    "#### (6) 문자열 포맷팅하기 \n",
    "\n",
    "문자열 포맷팅이란 문자열 내에 어떤 부분을 비워두고, 원하는 값으로 채워놓을 수 있도록 만든 것이다. \n",
    "\n",
    "```python\n",
    "accuracy_sentence = \"현재 32번째 학습하였습니다. 테스트의 정확도는 92.3%입니다.\"\n",
    "\n",
    "```\n",
    "\n",
    "우리가 머신러닝을 학습할 때에는 위와 같은 문장을 반복하여 만들어야 할때가 존재한다. 위 문장을 반복적으로 출력하기 위해서는 아래처럼 할수도 있다."
   ]
  },
  {
   "cell_type": "code",
   "execution_count": 39,
   "metadata": {},
   "outputs": [],
   "source": [
    "step = 32\n",
    "accuracy = 92.3"
   ]
  },
  {
   "cell_type": "code",
   "execution_count": 40,
   "metadata": {},
   "outputs": [
    {
     "data": {
      "text/plain": [
       "'현재 32번째 학습하였습니다. 테스트의 정확도는 92.3%입니다.'"
      ]
     },
     "execution_count": 40,
     "metadata": {},
     "output_type": "execute_result"
    }
   ],
   "source": [
    "\"현재 \"+str(step)+\"번째 학습하였습니다. 테스트의 정확도는 \"+str(accuracy)+\"%입니다.\""
   ]
  },
  {
   "cell_type": "markdown",
   "metadata": {},
   "source": [
    "위처럼 표현할 수 있지만 아래와 같이 좀 더 명확하고 간단하게 쓸 수 있다. 포맷팅은 중괄호({})로 비워두고 `.format()`에 중괄호 순서대로 대입하면 된다."
   ]
  },
  {
   "cell_type": "code",
   "execution_count": 41,
   "metadata": {},
   "outputs": [
    {
     "data": {
      "text/plain": [
       "'현재 32번째 학습하였습니다. 테스트의 정확도는 92.3%입니다.'"
      ]
     },
     "execution_count": 41,
     "metadata": {},
     "output_type": "execute_result"
    }
   ],
   "source": [
    "\"현재 {}번째 학습하였습니다. 테스트의 정확도는 {}%입니다.\".format(step, accuracy)"
   ]
  },
  {
   "cell_type": "markdown",
   "metadata": {},
   "source": [
    "<h2 style=\"background-color: rgba(1, 56, 120, 0.1)\"> 4. 기본 자료구조에서 쓰이는 연산들 </h2>"
   ]
  },
  {
   "cell_type": "markdown",
   "metadata": {},
   "source": [
    "\n",
    "#### (1) list와 tuple의 연산( + , * )"
   ]
  },
  {
   "cell_type": "code",
   "execution_count": 42,
   "metadata": {},
   "outputs": [
    {
     "data": {
      "text/plain": [
       "[1, 2, 3, 4, 5, 6, 7, 8, 9, 10]"
      ]
     },
     "execution_count": 42,
     "metadata": {},
     "output_type": "execute_result"
    }
   ],
   "source": [
    "lst1 = [1,2,3,4,5]\n",
    "lst2 = [6,7,8,9,10]\n",
    "lst1 + lst2 # 리스트 합치기"
   ]
  },
  {
   "cell_type": "code",
   "execution_count": 43,
   "metadata": {},
   "outputs": [
    {
     "data": {
      "text/plain": [
       "[1, 2, 3, 4, 5, 1, 2, 3, 4, 5, 1, 2, 3, 4, 5]"
      ]
     },
     "execution_count": 43,
     "metadata": {},
     "output_type": "execute_result"
    }
   ],
   "source": [
    "lst1 * 3 # 리스트 반복"
   ]
  },
  {
   "cell_type": "code",
   "execution_count": 44,
   "metadata": {},
   "outputs": [
    {
     "data": {
      "text/plain": [
       "(1, 2, 3, 4, 5, 6, 7, 8, 9, 10)"
      ]
     },
     "execution_count": 44,
     "metadata": {},
     "output_type": "execute_result"
    }
   ],
   "source": [
    "tpl1 = (1,2,3,4,5)\n",
    "tpl2 = (6,7,8,9,10)\n",
    "tpl1 + tpl2 # 튜플 합치기"
   ]
  },
  {
   "cell_type": "code",
   "execution_count": 45,
   "metadata": {},
   "outputs": [
    {
     "data": {
      "text/plain": [
       "(1, 2, 3, 4, 5, 1, 2, 3, 4, 5, 1, 2, 3, 4, 5)"
      ]
     },
     "execution_count": 45,
     "metadata": {},
     "output_type": "execute_result"
    }
   ],
   "source": [
    "tpl1 * 3 # 튜플 반복"
   ]
  },
  {
   "cell_type": "markdown",
   "metadata": {},
   "source": [
    "#### (2) set에서의 연산 \n",
    "\n",
    "> set(집합)은 그 이름답게, 집합에 관련된 연산들이 구현되어 있다. 집합에 해당하는 연산들은 아래와 같다.\n",
    "\n",
    "| 연산 | 설명 |\n",
    "| --- | --- |\n",
    "| $&$   | 교집합(두 집합에 공통으로 포함된 원소) |\n",
    "| $|$   | 합집합(두 집합의 모든 원소) |\n",
    "| A-B   | 차집합(A와 B의 교집합을 제외한 A의 원소) |\n",
    "| $^$   | 여집합(합집합에서 교집합을 뺀 모든 원소)|"
   ]
  },
  {
   "cell_type": "code",
   "execution_count": 46,
   "metadata": {},
   "outputs": [],
   "source": [
    "A = {1,2,3,5}\n",
    "B = {3,5,6,8,9}"
   ]
  },
  {
   "cell_type": "markdown",
   "metadata": {},
   "source": [
    "#### (1) 교집합"
   ]
  },
  {
   "cell_type": "code",
   "execution_count": 47,
   "metadata": {},
   "outputs": [
    {
     "data": {
      "text/plain": [
       "{3, 5}"
      ]
     },
     "execution_count": 47,
     "metadata": {},
     "output_type": "execute_result"
    }
   ],
   "source": [
    "A & B"
   ]
  },
  {
   "cell_type": "markdown",
   "metadata": {},
   "source": [
    "#### (2) 합집합"
   ]
  },
  {
   "cell_type": "code",
   "execution_count": 48,
   "metadata": {},
   "outputs": [
    {
     "data": {
      "text/plain": [
       "{1, 2, 3, 5, 6, 8, 9}"
      ]
     },
     "execution_count": 48,
     "metadata": {},
     "output_type": "execute_result"
    }
   ],
   "source": [
    "A | B"
   ]
  },
  {
   "cell_type": "markdown",
   "metadata": {},
   "source": [
    "#### (3) 차집합"
   ]
  },
  {
   "cell_type": "code",
   "execution_count": 49,
   "metadata": {},
   "outputs": [
    {
     "data": {
      "text/plain": [
       "{1, 2}"
      ]
     },
     "execution_count": 49,
     "metadata": {},
     "output_type": "execute_result"
    }
   ],
   "source": [
    "A - B"
   ]
  },
  {
   "cell_type": "markdown",
   "metadata": {},
   "source": [
    "#### (4) 여집합"
   ]
  },
  {
   "cell_type": "code",
   "execution_count": 50,
   "metadata": {},
   "outputs": [
    {
     "data": {
      "text/plain": [
       "{1, 2, 6, 8, 9}"
      ]
     },
     "execution_count": 50,
     "metadata": {},
     "output_type": "execute_result"
    }
   ],
   "source": [
    "A ^ B"
   ]
  },
  {
   "cell_type": "markdown",
   "metadata": {},
   "source": [
    "<h1 style = \"background-color: rgba(185, 109, 106, 0.3);\" > II. Python에서의 제어문 </h1>\n",
    "> Python에서 제공하는 제어문은 크게 3가지 조건문(if) / 반복문(while) / 순회문(for)이 존재합니다."
   ]
  },
  {
   "cell_type": "markdown",
   "metadata": {},
   "source": [
    "<h2 style=\"background-color: rgba(1, 56, 120, 0.1)\"> 1. 조건문(if) </h2>\n",
    "\n",
    "조건문의 기본 구조는 아래와 같다.\n",
    "\n",
    "```python\n",
    "if 조건문1:\n",
    "    수행할 문장1\n",
    "    수행할 문장2\n",
    "    ...\n",
    "elif 조건문2:\n",
    "    수행할 문자a\n",
    "    수행할 문자b\n",
    "    ...\n",
    "else:\n",
    "    수행할 문장A\n",
    "    수행할 문장B\n",
    "    ...\n",
    "```\n",
    "\n",
    "* 조건문 1이 만족하면 `수행할 문장1`과 `수행할 문장2`가 수행\n",
    "* 조건문 2이 만족하면 `수행할 문장a`과 `수행할 문장b`가 수행\n",
    "* 두 조건문 모두 만족하지 않으면 `수행할 문장A`과 `수행할 문장B`가 수행\n",
    "\n",
    "이 된다. 조건문에서는 if만 **필수**이고 elif와 else는 없어도 된다. "
   ]
  },
  {
   "cell_type": "markdown",
   "metadata": {},
   "source": [
    "#### 블록문(중요)\n",
    "블록문이란 연속된 코드의 묶음으로, 코드는 다수의 블록문으로 구성되어 있고, 블록문 안에 다수의 블록문이 중첩되어 있다. \n",
    "\n",
    "파이썬에서는 들여쓰기(indent)로 블록을 구분한다. 블록이 없다면 코드의 연속성이 어떤지 확인할 방법이 없다. 들여쓰기의 차이로 어떤 식으로 동작이 차이나는지 확인해보자."
   ]
  },
  {
   "cell_type": "code",
   "execution_count": 51,
   "metadata": {},
   "outputs": [],
   "source": [
    "condition_statement = False\n",
    "\n",
    "if condition_statement:\n",
    "    print(\"조건문이 참입니다.\")\n",
    "    \n",
    "    print(\"조건문에 해당하는 수행문은 여기까지 입니다.\")"
   ]
  },
  {
   "cell_type": "code",
   "execution_count": 52,
   "metadata": {},
   "outputs": [
    {
     "name": "stdout",
     "output_type": "stream",
     "text": [
      "조건문에 해당하는 수행문은 여기까지 입니다.\n"
     ]
    }
   ],
   "source": [
    "condition_statement = False\n",
    "\n",
    "if condition_statement:\n",
    "    print(\"조건문이 참입니다.\")\n",
    "\n",
    "print(\"조건문에 해당하는 수행문은 여기까지 입니다.\")"
   ]
  },
  {
   "cell_type": "markdown",
   "metadata": {},
   "source": [
    "`print(\"조건문에 해당하는 수행문은 여기까지 입니다.\")` 구문은 조건문이 참일 때만 출력되길 원하였지만, 아래에서는 indent가 되지 않았기 때문에, 조건문이 거짓이었음에도 불구하고 출력되게 되었다. Python의 indent에 따라 어디까지 연속된 수행문인지를 판단할 수 있다."
   ]
  },
  {
   "cell_type": "markdown",
   "metadata": {},
   "source": [
    "#### 예시) 돈으로 물건 구매하기\n",
    "\n",
    "가진 돈에 따라 편의점에서 물건을 구매하는 조건문을 짜보자"
   ]
  },
  {
   "cell_type": "code",
   "execution_count": 53,
   "metadata": {},
   "outputs": [
    {
     "name": "stdout",
     "output_type": "stream",
     "text": [
      "과자를 구매할 수 있습니다.\n"
     ]
    }
   ],
   "source": [
    "money = 2000\n",
    "if money >= 3800:\n",
    "    print(\"콜라를 구매할 수 있습니다.\")\n",
    "elif money >=1500:\n",
    "    print(\"과자를 구매할 수 있습니다.\")\n",
    "elif money >= 600:\n",
    "    print(\"계란을 구매할 수 있습니다.\")\n",
    "else:\n",
    "    print(\"아무것도 구매할 수 없습니다.\")"
   ]
  },
  {
   "cell_type": "markdown",
   "metadata": {},
   "source": [
    "만족하는 조건문은 `money >= 1500`와 `money >= 600` 모두이지만, money >=1500이 먼저 등장했기 때문에, `과자를 구매할 수 있습니다.`가 출력되었다."
   ]
  },
  {
   "cell_type": "markdown",
   "metadata": {},
   "source": [
    "#### 예시) 돈으로 물건 구매하기\n",
    "\n",
    "가진 돈과 칼로리에 따라 편의점에서 물건을 구매하는 조건문을 짜보자"
   ]
  },
  {
   "cell_type": "code",
   "execution_count": 54,
   "metadata": {},
   "outputs": [
    {
     "name": "stdout",
     "output_type": "stream",
     "text": [
      "계란을 구매할 수 있습니다.\n"
     ]
    }
   ],
   "source": [
    "money = 2000\n",
    "calorie = 500\n",
    "\n",
    "if money >= 3800 and calorie >= 1000:\n",
    "    print(\"콜라를 구매할 수 있습니다.\")\n",
    "elif money >=1500 and calorie >= 600:\n",
    "    print(\"과자를 구매할 수 있습니다.\")\n",
    "elif money >= 600 and calorie >= 300:\n",
    "    print(\"계란을 구매할 수 있습니다.\")\n",
    "else:\n",
    "    print(\"아무것도 구매할 수 없습니다.\")"
   ]
  },
  {
   "cell_type": "markdown",
   "metadata": {},
   "source": [
    "우리는 조건문에 and나 or와 같은 연산자를 통해, 여러 개의 조건문을 동시에 쓸 수 있다."
   ]
  },
  {
   "cell_type": "markdown",
   "metadata": {},
   "source": [
    "<h2 style=\"background-color: rgba(1, 56, 120, 0.1)\"> 2. 반복문(while) </h2>\n",
    "\n",
    "반복문의 기본 구조는 아래와 같다.\n",
    "\n",
    "```python\n",
    "while 조건문:\n",
    "    수행할 문장1\n",
    "    수행할 문장2\n",
    "    수행할 문장3\n",
    "    ...\n",
    "```\n",
    "\n",
    "while문은 조건문이 참인 동안에 while 문 아래에 속하는 문장들이 반복해서 수행된다. "
   ]
  },
  {
   "cell_type": "markdown",
   "metadata": {},
   "source": [
    "#### 예시) 10부터 1까지 출력하는 카운터\n",
    "\n",
    "10부터 1까지 차례대로 하나씩 줄어들면서 그 값을 출력하는 카운터 프로그램을 짜보자."
   ]
  },
  {
   "cell_type": "code",
   "execution_count": 55,
   "metadata": {},
   "outputs": [
    {
     "name": "stdout",
     "output_type": "stream",
     "text": [
      "10\n",
      "9\n",
      "8\n",
      "7\n",
      "6\n",
      "5\n",
      "4\n",
      "3\n",
      "2\n",
      "1\n"
     ]
    }
   ],
   "source": [
    "counter = 10\n",
    "while counter > 0:\n",
    "    print(counter)\n",
    "    counter = counter - 1"
   ]
  },
  {
   "cell_type": "markdown",
   "metadata": {},
   "source": [
    "#### while 문 강제로 나오기\n",
    "\n",
    "While문은 조건문이 참인 동안 계속해서 while문 안의 내용을 반복적으로 수행하는데, 강제로 while 문을 탈출하는 방법도 있다. 아래 예시를 통해 알아보자"
   ]
  },
  {
   "cell_type": "code",
   "execution_count": 56,
   "metadata": {},
   "outputs": [
    {
     "name": "stdout",
     "output_type": "stream",
     "text": [
      "입력한 숫자만큼 음료수를 드립니다.\n"
     ]
    },
    {
     "ename": "ValueError",
     "evalue": "invalid literal for int() with base 10: ''",
     "output_type": "error",
     "traceback": [
      "\u001b[0;31m---------------------------------------------------------------------------\u001b[0m",
      "\u001b[0;31mValueError\u001b[0m                                Traceback (most recent call last)",
      "\u001b[0;32m<ipython-input-56-61b4b5b9efd0>\u001b[0m in \u001b[0;36m<module>\u001b[0;34m\u001b[0m\n\u001b[1;32m      2\u001b[0m \u001b[0;32mwhile\u001b[0m \u001b[0;32mTrue\u001b[0m\u001b[0;34m:\u001b[0m\u001b[0;34m\u001b[0m\u001b[0m\n\u001b[1;32m      3\u001b[0m     \u001b[0;31m# 사용자로부터 입력을 받는 부분\u001b[0m\u001b[0;34m\u001b[0m\u001b[0;34m\u001b[0m\u001b[0m\n\u001b[0;32m----> 4\u001b[0;31m     \u001b[0mpurchase\u001b[0m \u001b[0;34m=\u001b[0m \u001b[0mint\u001b[0m\u001b[0;34m(\u001b[0m\u001b[0minput\u001b[0m\u001b[0;34m(\u001b[0m\u001b[0;34m\"입력한 숫자만큼 음료수를 드립니다.\"\u001b[0m\u001b[0;34m)\u001b[0m\u001b[0;34m)\u001b[0m\u001b[0;34m\u001b[0m\u001b[0m\n\u001b[0m\u001b[1;32m      5\u001b[0m \u001b[0;34m\u001b[0m\u001b[0m\n\u001b[1;32m      6\u001b[0m     \u001b[0;32mif\u001b[0m \u001b[0mnum_drink\u001b[0m \u001b[0;34m-\u001b[0m \u001b[0mpurchase\u001b[0m \u001b[0;34m<\u001b[0m \u001b[0;36m0\u001b[0m\u001b[0;34m:\u001b[0m\u001b[0;34m\u001b[0m\u001b[0m\n",
      "\u001b[0;31mValueError\u001b[0m: invalid literal for int() with base 10: ''"
     ]
    }
   ],
   "source": [
    "num_drink = 100\n",
    "while True:\n",
    "    # 사용자로부터 입력을 받는 부분\n",
    "    purchase = int(input(\"입력한 숫자만큼 음료수를 드립니다.\"))\n",
    "    \n",
    "    if num_drink - purchase < 0:\n",
    "        # 재고보다 요청한 양이 많으면 거래 종료\n",
    "        print(\"재고가 바닥났습니다. 거래를 종료합니다.\")\n",
    "        break\n",
    "    elif num_drink - purchase == 0:\n",
    "        # 남은 재고만큼 요청하였을 때에는 마지막 출력 생략\n",
    "        print(\"{} 만큼 음료수를 드립니다.\".format(num_drink))\n",
    "        num_drink = num_drink - purchase\n",
    "        continue\n",
    "    else:\n",
    "        # 재고보다 요청한 양이 적으면 제공\n",
    "        print(\"{} 만큼 음료수를 드립니다.\".format(num_drink))\n",
    "        num_drink = num_drink - purchase\n",
    "    \n",
    "    print(\"음료수가 {}개 남았습니다.\".format(num_drink))"
   ]
  },
  {
   "cell_type": "markdown",
   "metadata": {},
   "source": [
    "`break`는 반복문을 탈출하는 데에 쓰이고, `continue`는 continue아래에 실행되어야 하는 구문을 뛰어넘는 데에 쓰입니다."
   ]
  },
  {
   "cell_type": "markdown",
   "metadata": {},
   "source": [
    "<h2 style=\"background-color: rgba(1, 56, 120, 0.1)\"> 3. 순회문(for) </h2>\n",
    "\n",
    "순회문의 기본 구조는 아래와 같다.\n",
    "\n",
    "```python\n",
    "for 변수 in 순회가능한 자료구조(list, tuple, set, dict):\n",
    "    수행할 문장1\n",
    "    수행할 문장2\n",
    "    수행할 문장3\n",
    "    ...\n",
    "```\n",
    "\n",
    "순서가 있는 자료구조(list, tuple)은 순서대로 하나씩 변수에 대입되고, 순서가 없는 자료구조(set, dict)은 순서에 무관하게 하나씩 변수에 대입된다."
   ]
  },
  {
   "cell_type": "code",
   "execution_count": 57,
   "metadata": {},
   "outputs": [
    {
     "name": "stdout",
     "output_type": "stream",
     "text": [
      "one\n",
      "two\n",
      "three\n",
      "four\n",
      "five\n"
     ]
    }
   ],
   "source": [
    "lst1 = [\"one\",\"two\",\"three\",'four','five']\n",
    "\n",
    "for var in lst1:\n",
    "    print(var)"
   ]
  },
  {
   "cell_type": "code",
   "execution_count": 58,
   "metadata": {},
   "outputs": [
    {
     "name": "stdout",
     "output_type": "stream",
     "text": [
      "one\n",
      "two\n",
      "three\n",
      "four\n",
      "five\n"
     ]
    }
   ],
   "source": [
    "tpl1 = [\"one\",\"two\",\"three\",'four','five']\n",
    "\n",
    "for var in tpl1:\n",
    "    print(var)"
   ]
  },
  {
   "cell_type": "code",
   "execution_count": 59,
   "metadata": {},
   "outputs": [
    {
     "name": "stdout",
     "output_type": "stream",
     "text": [
      "four\n",
      "five\n",
      "one\n",
      "three\n",
      "two\n"
     ]
    }
   ],
   "source": [
    "set1 = {\"one\",\"two\",\"three\",'four','five'}\n",
    "\n",
    "for var in set1:\n",
    "    # 내부에서 정렬된 순서대로 출력된다\n",
    "    print(var)"
   ]
  },
  {
   "cell_type": "code",
   "execution_count": 60,
   "metadata": {},
   "outputs": [
    {
     "name": "stdout",
     "output_type": "stream",
     "text": [
      "one\n",
      "two\n",
      "three\n",
      "four\n",
      "five\n"
     ]
    }
   ],
   "source": [
    "dict1 = {\"one\":1,\"two\":2,\"three\":3,\"four\":4,\"five\":5}\n",
    "\n",
    "for key in dict1:\n",
    "    # 기본적으로 key값을 기준으로 변수에 대입한다\n",
    "    print(key)"
   ]
  },
  {
   "cell_type": "code",
   "execution_count": 61,
   "metadata": {},
   "outputs": [
    {
     "name": "stdout",
     "output_type": "stream",
     "text": [
      "one 1\n",
      "two 2\n",
      "three 3\n",
      "four 4\n",
      "five 5\n"
     ]
    }
   ],
   "source": [
    "for key, value in dict1.items():\n",
    "    # 같이 순회하기 위해서는 items()를 호출하면 된다.\n",
    "    print(key,value)"
   ]
  },
  {
   "cell_type": "code",
   "execution_count": 62,
   "metadata": {},
   "outputs": [
    {
     "name": "stdout",
     "output_type": "stream",
     "text": [
      "1\n",
      "2\n",
      "3\n",
      "4\n",
      "5\n"
     ]
    }
   ],
   "source": [
    "for value in dict1.values():\n",
    "    # 값만 순회하기 위해서는 values()를 호출하면 된다.\n",
    "    print(value)"
   ]
  },
  {
   "cell_type": "markdown",
   "metadata": {},
   "source": [
    "#### 순회문도 반복문과 마찬가지로 break와 continue를 이용할 수 있다."
   ]
  },
  {
   "cell_type": "code",
   "execution_count": 63,
   "metadata": {},
   "outputs": [
    {
     "name": "stdout",
     "output_type": "stream",
     "text": [
      "one 1\n",
      "two 2\n",
      "순회를 종료합니다.\n"
     ]
    }
   ],
   "source": [
    "for key, value in dict1.items():\n",
    "    if key == \"three\":\n",
    "        print(\"순회를 종료합니다.\")\n",
    "        break\n",
    "    print(key, value)"
   ]
  },
  {
   "cell_type": "code",
   "execution_count": 64,
   "metadata": {},
   "outputs": [
    {
     "name": "stdout",
     "output_type": "stream",
     "text": [
      "one 1\n",
      "two 2\n",
      "출력을 생략합니다.\n",
      "four 4\n",
      "five 5\n"
     ]
    }
   ],
   "source": [
    "for key, value in dict1.items():\n",
    "    if key == \"three\":\n",
    "        print(\"출력을 생략합니다.\")\n",
    "        continue\n",
    "    print(key, value)"
   ]
  },
  {
   "cell_type": "markdown",
   "metadata": {},
   "source": [
    "<hr>\n",
    "\n",
    "Copyright(c) 2019 by Public AI. All rights reserved.<br>\n",
    "Writen by PAI, SangJae Kang ( rocketgrowthsj@publicai.co.kr )  last updated on 2019/01/24\n",
    "<hr>"
   ]
  }
 ],
 "metadata": {
  "kernelspec": {
   "display_name": "Python 3",
   "language": "python",
   "name": "python3"
  },
  "language_info": {
   "codemirror_mode": {
    "name": "ipython",
    "version": 3
   },
   "file_extension": ".py",
   "mimetype": "text/x-python",
   "name": "python",
   "nbconvert_exporter": "python",
   "pygments_lexer": "ipython3",
   "version": "3.6.5"
  }
 },
 "nbformat": 4,
 "nbformat_minor": 2
}
