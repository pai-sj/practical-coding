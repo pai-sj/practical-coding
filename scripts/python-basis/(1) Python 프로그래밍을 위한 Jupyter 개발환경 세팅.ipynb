{
 "cells": [
  {
   "cell_type": "markdown",
   "metadata": {
    "deletable": false,
    "editable": false
   },
   "source": [
    "# I. Jupyter 개발환경 세팅하기\n",
    "\n",
    "\n",
    "2019/01/26 (sat)"
   ]
  },
  {
   "cell_type": "code",
   "execution_count": 2,
   "metadata": {
    "deletable": false,
    "editable": false
   },
   "outputs": [],
   "source": [
    "# For Importing toggle.py in misc directory\n",
    "import sys\n",
    "sys.path.append(\"../misc\")\n",
    "from toggle import *"
   ]
  },
  {
   "cell_type": "markdown",
   "metadata": {
    "deletable": false,
    "editable": false
   },
   "source": [
    "<hr>\n",
    "<h1 style = \"background-color: rgba(185, 109, 106, 0.3);\" > I. Jupyter의 Window 구성</h1>\n",
    "> 안녕하세요. 가장 먼저, Python Programming을 할 수 있는 Jupyter 개발 환경에 대해서 배워보도록 하겠습니다."
   ]
  },
  {
   "cell_type": "markdown",
   "metadata": {
    "deletable": false,
    "editable": false
   },
   "source": [
    "<hr>\n",
    "## 1. Jupyter main 화면\n",
    "처음 Jupyter notebook을 실행하시면 웹 브라우저를 통해 아래와 같은 화면이 나타나게 됩니다.\n",
    "폴더를 클릭하여 Script 를 생성하고 싶은 위치로 이동해 주세요.\n",
    "![1_main](../images/1_main.png)"
   ]
  },
  {
   "cell_type": "markdown",
   "metadata": {
    "deletable": false,
    "editable": false
   },
   "source": [
    "<hr>\n",
    "## 2. 새로운 script 만들기\n",
    "이제, 코드를 작성할 ipynb 파일을 만들도록 하겠습니다.\n",
    "아래 그림과 같이 우측의 <button>New</button> 을 클릭하시면 python을 클릭\n",
    "\n",
    "![](../images/2_new_create script.png)"
   ]
  },
  {
   "cell_type": "markdown",
   "metadata": {
    "deletable": false,
    "editable": false
   },
   "source": [
    "<hr>\n",
    "## 3. 새로운 Script 편집창\n",
    "![](../images/3_first window.png)"
   ]
  },
  {
   "cell_type": "markdown",
   "metadata": {
    "deletable": false,
    "editable": false
   },
   "source": [
    "<hr>\n",
    "## 4. 생성된 ipynb 파일\n",
    "![](../images/4_created ipython.png)"
   ]
  },
  {
   "cell_type": "markdown",
   "metadata": {
    "deletable": false,
    "editable": false
   },
   "source": [
    "<hr>\n",
    "<h1 style = \"background-color: rgba(185, 109, 106, 0.3);\" > II. Jupyter에서 코드 작성하기 </h1>\n",
    "    \n",
    "> Jupyter에서는 Cell 단위로 코드를 작성하고 실행합니다. "
   ]
  },
  {
   "cell_type": "markdown",
   "metadata": {
    "deletable": false,
    "editable": false
   },
   "source": [
    "## 1. 코드 편집모드로 전환하기\n",
    "\n",
    "> Code를 작성하기 위해서는 <button>Enter</button> 키를 눌러 아래와 같이 코드 편집모드로 전환합니다.<br>\n",
    "> 코드 편집모드일 때에는 아래와 같이 셀이 초록색 테두리로 감싸집니다.\n",
    "\n",
    "![](../images/5_editable mode.png)"
   ]
  },
  {
   "cell_type": "markdown",
   "metadata": {
    "deletable": false,
    "editable": false
   },
   "source": [
    "<hr>\n",
    "## 2. 코드 실행하기 / 출력 확인하기\n",
    "\n",
    "Cell 내에 원하는 코드를 작성한 후, <br>\n",
    "* <button>shift</button> + <button>Enter</button>   : 현재 셀 실행 후 다음 셀로 이동\n",
    "\n",
    "\n",
    "* <button>ctrl</button> + <button>Enter</button>  : 현재 셀 실행\n",
    "\n",
    "\n",
    "![](../images/9_exe_print cell.png)\n",
    "\n",
    "1. **In [ # ] :**\n",
    "   \n",
    "       #숫자는 해당 파일에서 몇번째에 실행된 셀인지 나타냅니다. \n",
    "       셀은 꼭 위에서 아래로 실행되는 것이 아닌, User가 원하는 순서대로 셀을 실행 할 수 있습니다.\n",
    "\n",
    "2. **출력창 :**\n",
    "       \n",
    "       출력창에서는 제일 마지막 변수에 담긴 정보를 확인할 수 있고 print() 로 출력된 정보를 확인할 수 있습니다."
   ]
  },
  {
   "cell_type": "markdown",
   "metadata": {
    "deletable": false,
    "editable": false
   },
   "source": [
    "<hr>\n",
    "### 예제. 코드 실행하기 / 출력 확인하기\n",
    "\n",
    "> 이제, 다음 코드를 아래의 셀에 입력해보세요 !\n",
    "\n",
    "````python\n",
    "print(\"Hello KB!\")\n",
    "````\n"
   ]
  },
  {
   "cell_type": "code",
   "execution_count": 5,
   "metadata": {
    "collapsed": true,
    "deletable": false
   },
   "outputs": [],
   "source": [
    "# 해당 셀에 입력해주세요!\n"
   ]
  },
  {
   "cell_type": "code",
   "execution_count": 3,
   "metadata": {
    "deletable": false,
    "editable": false,
    "scrolled": true
   },
   "outputs": [
    {
     "name": "stdout",
     "output_type": "stream",
     "text": [
      "Hello KB!\n"
     ]
    },
    {
     "data": {
      "text/html": [
       "\n",
       "        <script>\n",
       "            function code_toggle_15446961844252275538() {\n",
       "                $('div.cell.code_cell.rendered.selected').find('div.input').toggle();\n",
       "            }\n",
       "\n",
       "            \n",
       "        </script>\n",
       "\n",
       "        <a href=\"javascript:code_toggle_15446961844252275538()\">1. 답안지 보기</a>\n",
       "    "
      ],
      "text/plain": [
       "<IPython.core.display.HTML object>"
      ]
     },
     "execution_count": 3,
     "metadata": {},
     "output_type": "execute_result"
    }
   ],
   "source": [
    "###########################\n",
    "\n",
    "print(\"Hello KB!\")\n",
    "\n",
    "###########################\n",
    "toggle(text=\"1. 답안지 보기\")"
   ]
  },
  {
   "cell_type": "markdown",
   "metadata": {
    "deletable": false,
    "editable": false
   },
   "source": [
    "<hr><hr>\n",
    "<h1 style = \"background-color: rgba(185, 109, 106, 0.3);\" > III. Jupyter에서 셀 조작하기 </h1>\n",
    "\n",
    "> Jupyter에서 Script의 실행단위인 셀을 조작하는 방법을 알아봅시다.\n",
    "\n",
    "> 각 셀은 각각 별개의 Script로 실행됩니다."
   ]
  },
  {
   "cell_type": "markdown",
   "metadata": {
    "deletable": false,
    "editable": false
   },
   "source": [
    "## 1. 셀 조작모드로 전환하기\n",
    "\n",
    "> Cell단위를 조작하기 위해서는 <button>ESC</button> 키를 눌러 아래와 같이 셀 조작모드로 전환합니다.<br>\n",
    "> 셀 조작모드일 때에는 아래와 같이 셀이 파란색 테두리로 감싸집니다.\n",
    "\n",
    "![](../images/6_Command mode.png)"
   ]
  },
  {
   "cell_type": "markdown",
   "metadata": {
    "deletable": false,
    "editable": false
   },
   "source": [
    "<hr>\n",
    "## 2. 셀 생성 및 삭제\n",
    "\n",
    "- <button>A</button> : 현재 셀 **위에** 셀 추가하기\n",
    "\n",
    "\n",
    "- <button>B</button> : 현재 셀 **아래에** 셀 추가하기\n",
    "\n",
    "\n",
    "- <button>X</button> : 현재 셀 잘라내기\n",
    "\n",
    "\n",
    "- <button>Z</button> : 마지막 셀 조작 복구하기"
   ]
  },
  {
   "cell_type": "code",
   "execution_count": 4,
   "metadata": {},
   "outputs": [],
   "source": [
    "# 해당 셀의 위 아래에 셀을 추가하고 지워보세요!"
   ]
  },
  {
   "cell_type": "markdown",
   "metadata": {
    "deletable": false,
    "editable": false
   },
   "source": [
    "<hr>\n",
    "## 3. 셀 모드 변경하기\n",
    "> 셀의 모드에는 Code, Markdown, Raw, Heading이 있습니다.\n",
    "\n",
    "- <button>Y</button> : 현재 셀을 Code 입력 모드로 변경하기\n",
    "- <button>M</button> : 현재 셀을 Markdown 입력 모드로 변경하기\n",
    "\n",
    "![](../images/10_cell_mode.png)"
   ]
  },
  {
   "cell_type": "markdown",
   "metadata": {
    "deletable": false,
    "editable": false
   },
   "source": [
    "### Cell 의 모드별 차이\n",
    "\n",
    "- Code Mode : Python Code를 입력하고 실행하는 셀\n",
    "- Markdown Mode : 문서를 작성할 수 있는 셀 : [Markdown 문법 Link](https://gist.github.com/ihoneymon/652be052a0727ad59601) \n",
    "![](../images/11_cell_markdown_mode.png)"
   ]
  },
  {
   "cell_type": "markdown",
   "metadata": {
    "deletable": false,
    "editable": false
   },
   "source": [
    "<hr>\n",
    "## 4. Script 종료 및 재시작\n",
    "> 셀이 진행중일때에는 `In [*]` 로 표시됩니다.<br>\n",
    "> 다음 단축키 혹은 상단의 Toolbar > Kernel의 메뉴를 통해 종료하거나 재시작할 수 있습니다.\n",
    "\n",
    "- <button>I</button>,<button>I</button> : 현재 실행되고 있는 Cell 정지하기 : Interupt\n",
    "\n",
    "\n",
    "- <button>O</button>,<button>O</button> : 현재 페이지 ( 모든 Cell ) 에 대해 재시작하기 : Restart\n",
    "\n",
    "![](../images/12_Kernel_menu.png)"
   ]
  },
  {
   "cell_type": "markdown",
   "metadata": {
    "deletable": false,
    "editable": false
   },
   "source": [
    "<hr><hr>\n",
    "<h1 style = \"background-color: rgba(185, 109, 106, 0.3);\" > IV. 주피터의 단축키와 활용 </h1>\n",
    "\n",
    "> 단축키를 확인 하는 방법과 그밖의 활용"
   ]
  },
  {
   "cell_type": "markdown",
   "metadata": {
    "deletable": false,
    "editable": false
   },
   "source": [
    "## 1. 단축키 확인\n",
    "\n",
    "- jupyter에서의 단축키는 <button>H</button>키를 통해 확인할 수 있습니다.\n",
    "\n",
    "[단축키 확인하기](https://www.cheatography.com/weidadeyue/cheat-sheets/jupyter-notebook/pdf_bw/)"
   ]
  },
  {
   "cell_type": "markdown",
   "metadata": {
    "deletable": false,
    "editable": false
   },
   "source": [
    "## 2. Jupyter의 도움 받기\n",
    "\n",
    "> 코딩에서 막혔을 때 Jupyter의 도움을 받을 수 있는 방법은 여러가지가 있습니다.\n",
    "\n",
    "**1. <button>tab</button> : 해당 위치에서 작성 가능한 인자를 확인할 수 있습니다.**\n",
    "<img src=\"../images/16_tab기능.png\" width=\"800\">\n",
    "\n",
    "\n",
    "**2. <button>shift</button>  +  <button>tab</button> : 해당 함수 또는 변수타입의 간략한 Description를 확인할 수 있습니다.**\n",
    "<img src=\"../images/17.shifttap기능.png\" width=\"800\">\n",
    "\n",
    "**3. `?function` : 함수 또는 변수타입에 대한 Description 을 하단의 창으로 띄워줍니다.**\n",
    "<img src=\"../images/18.question기능.png\" width=\"800\">"
   ]
  },
  {
   "cell_type": "markdown",
   "metadata": {
    "deletable": false,
    "editable": false
   },
   "source": [
    "### 예제1. 함수의 Description 확인하기\n",
    "Q. 아래 셀에서 \"example_function\" 이라는 함수의 Description을 확인 해 보세요 !"
   ]
  },
  {
   "cell_type": "code",
   "execution_count": 5,
   "metadata": {
    "deletable": false,
    "editable": false
   },
   "outputs": [],
   "source": [
    "# 해당 셀에서 확인\n",
    "?example_function"
   ]
  },
  {
   "cell_type": "code",
   "execution_count": 6,
   "metadata": {},
   "outputs": [
    {
     "data": {
      "text/html": [
       "\n",
       "        <script>\n",
       "            function code_toggle_2593880358412210273() {\n",
       "                $('div.cell.code_cell.rendered.selected').find('div.input').toggle();\n",
       "            }\n",
       "\n",
       "            \n",
       "        </script>\n",
       "\n",
       "        <a href=\"javascript:code_toggle_2593880358412210273()\">클릭하여 정답확인</a>\n",
       "    "
      ],
      "text/plain": [
       "<IPython.core.display.HTML object>"
      ]
     },
     "execution_count": 6,
     "metadata": {},
     "output_type": "execute_result"
    }
   ],
   "source": [
    "##########################\n",
    "\n",
    "?example_function\n",
    "\n",
    "##########################\n",
    "toggle(text=\"클릭하여 정답확인\")"
   ]
  },
  {
   "cell_type": "markdown",
   "metadata": {
    "deletable": false,
    "editable": false
   },
   "source": [
    "<hr>\n",
    "\n",
    "Copyright(c) 2019 by Public AI. All rights reserved. last updated on 2019/01/24<br>\n",
    "Writen by PAI, SeonYoul Choi(Best10@publicai.co.kr) \n",
    "<hr>"
   ]
  }
 ],
 "metadata": {
  "celltoolbar": "Edit Metadata",
  "kernelspec": {
   "display_name": "Python 3",
   "language": "python",
   "name": "python3"
  },
  "language_info": {
   "codemirror_mode": {
    "name": "ipython",
    "version": 3
   },
   "file_extension": ".py",
   "mimetype": "text/x-python",
   "name": "python",
   "nbconvert_exporter": "python",
   "pygments_lexer": "ipython3",
   "version": "3.6.5"
  }
 },
 "nbformat": 4,
 "nbformat_minor": 2
}
