{
 "cells": [
  {
   "cell_type": "markdown",
   "metadata": {},
   "source": [
    "<h1 style = \"background-color: rgba(185, 109, 106, 0.3);\" > Python Function에 관하여 </h1>\n",
    "\n",
    "reference : \n",
    "1. [Python-클로저(Closure)](http://schoolofweb.net/blog/posts/%ED%8C%8C%EC%9D%B4%EC%8D%AC-%ED%81%B4%EB%A1%9C%EC%A0%80-closure/)\n",
    "2. [1급객체란](https://medium.com/@lazysoul/functional-programming-%EC%97%90%EC%84%9C-1%EA%B8%89-%EA%B0%9D%EC%B2%B4%EB%9E%80-ba1aeb048059)\n",
    "3. [파이썬 class 및 function namespace 이해하기](https://www.slideshare.net/dahlmoon/pandasdata-frame-20160425-70298865)\n",
    "<hr>"
   ]
  },
  {
   "cell_type": "markdown",
   "metadata": {},
   "source": [
    "## 1. First-Class Function\n",
    "\n",
    "> 파이썬에서는 모든 것을 객체(object)로 다루고 인식한다. 이는 함수도 예외가 아니다. 파이썬에서는 함수를 first-class citizen으로 취급하는데, 이는 아래의 3가지 조건을 만족한다는 얘기다.\n",
    "\n",
    "1. 변수나 데이타에 할당 할 수 있어야 한다.\n",
    "2. 객체의 인자로 넘길 수 있어야 한다.\n",
    "3. 객체의 리턴값으로 리턴 할수 있어야 한다."
   ]
  },
  {
   "cell_type": "code",
   "execution_count": 1,
   "metadata": {},
   "outputs": [
    {
     "name": "stdout",
     "output_type": "stream",
     "text": [
      "5\n"
     ]
    }
   ],
   "source": [
    "def add(x,y):\n",
    "    return x + y\n",
    "\n",
    "print(add(2,3))"
   ]
  },
  {
   "cell_type": "code",
   "execution_count": 2,
   "metadata": {},
   "outputs": [
    {
     "data": {
      "text/plain": [
       "<function __main__.add(x, y)>"
      ]
     },
     "execution_count": 2,
     "metadata": {},
     "output_type": "execute_result"
    }
   ],
   "source": [
    "globals()['add'] # 기본적으로 global namespace에서 관리되는 객체이다."
   ]
  },
  {
   "cell_type": "markdown",
   "metadata": {},
   "source": [
    "#### 1) 변수나 데이터에 할당할 수 있어야 한다."
   ]
  },
  {
   "cell_type": "code",
   "execution_count": 3,
   "metadata": {},
   "outputs": [
    {
     "data": {
      "text/plain": [
       "5"
      ]
     },
     "execution_count": 3,
     "metadata": {},
     "output_type": "execute_result"
    }
   ],
   "source": [
    "f = add # add라는 메소드를 f에 담았음\n",
    "f(2,3)"
   ]
  },
  {
   "cell_type": "markdown",
   "metadata": {},
   "source": [
    "#### 2) 객체의 인자로 넘길 수 있어야 한다."
   ]
  },
  {
   "cell_type": "code",
   "execution_count": 4,
   "metadata": {},
   "outputs": [],
   "source": [
    "def square(x):\n",
    "    return x * x\n",
    "\n",
    "def cube(x):\n",
    "    return x * x * x\n",
    "\n",
    "def quad(x):\n",
    "    return x * x * x * x\n",
    "\n",
    "def my_map(func, arg_list):\n",
    "    result = []\n",
    "    for i in arg_list:\n",
    "        result.append(func(i)) # square 함수 호출, func == square\n",
    "    return result"
   ]
  },
  {
   "cell_type": "code",
   "execution_count": 5,
   "metadata": {},
   "outputs": [
    {
     "name": "stdout",
     "output_type": "stream",
     "text": [
      "[1, 4, 9, 16, 25]\n",
      "[1, 8, 27, 64, 125]\n",
      "[1, 16, 81, 256, 625]\n"
     ]
    }
   ],
   "source": [
    "num_list = [1, 2, 3, 4, 5]\n",
    "\n",
    "squares = my_map(square, num_list)\n",
    "cubes = my_map(cube, num_list)\n",
    "quads = my_map(quad, num_list)\n",
    "\n",
    "print(squares)\n",
    "print(cubes)\n",
    "print(quads)"
   ]
  },
  {
   "cell_type": "markdown",
   "metadata": {},
   "source": [
    "#### 3) 객체의 리턴값으로 리턴할 수 있어야 한다."
   ]
  },
  {
   "cell_type": "code",
   "execution_count": 6,
   "metadata": {},
   "outputs": [],
   "source": [
    "import time"
   ]
  },
  {
   "cell_type": "code",
   "execution_count": 7,
   "metadata": {},
   "outputs": [],
   "source": [
    "def time_check(func):\n",
    "    def inner(*args,**kwargs):\n",
    "        start = time.time()\n",
    "        result = func(*args,**kwargs)\n",
    "        print(f\"consumed time : {time.time()-start:.7f}\")\n",
    "        return result\n",
    "    return inner"
   ]
  },
  {
   "cell_type": "code",
   "execution_count": 8,
   "metadata": {},
   "outputs": [],
   "source": [
    "def add_all(nums):\n",
    "    result = 0\n",
    "    for num in nums:\n",
    "        result += num\n",
    "    return result"
   ]
  },
  {
   "cell_type": "code",
   "execution_count": 9,
   "metadata": {},
   "outputs": [],
   "source": [
    "add_all_with_time = time_check(add_all)"
   ]
  },
  {
   "cell_type": "code",
   "execution_count": 10,
   "metadata": {},
   "outputs": [
    {
     "data": {
      "text/plain": [
       "55"
      ]
     },
     "execution_count": 10,
     "metadata": {},
     "output_type": "execute_result"
    }
   ],
   "source": [
    "add_all([1,2,3,4,5,6,7,8,9,10])"
   ]
  },
  {
   "cell_type": "code",
   "execution_count": 11,
   "metadata": {},
   "outputs": [
    {
     "name": "stdout",
     "output_type": "stream",
     "text": [
      "consumed time : 0.0000021\n"
     ]
    },
    {
     "data": {
      "text/plain": [
       "55"
      ]
     },
     "execution_count": 11,
     "metadata": {},
     "output_type": "execute_result"
    }
   ],
   "source": [
    "add_all_with_time([1,2,3,4,5,6,7,8,9,10])"
   ]
  },
  {
   "cell_type": "markdown",
   "metadata": {},
   "source": [
    "## 2. 클로저(Closure)\n",
    "\n",
    "> 클로저란 퍼스트클래스 함수를 지원하는 언어의 네임 바인딩 기술이다. 클로저는 어떤 함수를 함수 자신이 가지고 있는 환경과 함께 저장된 레코드다. 또한 함수가 가진 프리변수를 클로저가 만들어지는 당시의 값과 레퍼런스에 맵핑하여 주는 역할을 한다. 클로저는 일반 함수와는 다르게, 자신의 영역 밖에서 호출된 함수의 변수값과 레퍼런스를 복사하고 저장한 뒤, 이 캡처한 값들에 엑세스할 수 있게 도와준다.\n",
    "\n"
   ]
  },
  {
   "cell_type": "code",
   "execution_count": 12,
   "metadata": {},
   "outputs": [],
   "source": [
    "def outer_func(name): #1\n",
    "    message = 'Hi' #3\n",
    "\n",
    "    def inner_func(): #4\n",
    "        print(\"{} say : {}\".format(name, message)) #6 \n",
    "\n",
    "    return inner_func #5"
   ]
  },
  {
   "cell_type": "markdown",
   "metadata": {},
   "source": [
    "1. (1)에서 정의된 함수 outer_func을 (2)에서 호출합니다.\n",
    "2. outer_func가 실행된 후, 가장 먼저 하는 것은 message라는 변수에 \"hi\"라는 문자열을 할당합니다.(3)\n",
    "3. (4)에서 inner_func을 정의하고 (5)에서 inner_func을 리턴합니다.\n",
    "4. (6)에서 message 변수를 참조하여 출력합니다. 여기서 message는 inner_func 안에서 정의되지는 않았지만, inner_func 안에서 사용되기 때문에 프리변수라고 부릅니다."
   ]
  },
  {
   "cell_type": "code",
   "execution_count": 13,
   "metadata": {},
   "outputs": [],
   "source": [
    "name = '성중쌤'\n",
    "my_func = outer_func(name)"
   ]
  },
  {
   "cell_type": "code",
   "execution_count": 14,
   "metadata": {},
   "outputs": [
    {
     "data": {
      "text/plain": [
       "(<cell at 0x1095e7738: str object at 0x1095e3260>,\n",
       " <cell at 0x1095e72e8: str object at 0x1095b37b0>)"
      ]
     },
     "execution_count": 14,
     "metadata": {},
     "output_type": "execute_result"
    }
   ],
   "source": [
    "my_func.__closure__ # Closure cells를 반환. \n",
    "                    # Closure Cells이란, 함수를 생성한 환경에서 가져온 값들을 가져옴"
   ]
  },
  {
   "cell_type": "code",
   "execution_count": 15,
   "metadata": {},
   "outputs": [
    {
     "name": "stdout",
     "output_type": "stream",
     "text": [
      "Hi\n",
      "성중쌤\n"
     ]
    }
   ],
   "source": [
    "for cell in my_func.__closure__:\n",
    "    print(cell.cell_contents)"
   ]
  },
  {
   "cell_type": "code",
   "execution_count": 16,
   "metadata": {},
   "outputs": [
    {
     "name": "stdout",
     "output_type": "stream",
     "text": [
      "my name is 상재\n"
     ]
    }
   ],
   "source": [
    "name = \"상재\"\n",
    "\n",
    "def print_name():\n",
    "    print(\"my name is {}\".format(name))\n",
    "    \n",
    "print_name()"
   ]
  },
  {
   "cell_type": "code",
   "execution_count": 17,
   "metadata": {},
   "outputs": [],
   "source": [
    "print_name.__closure__"
   ]
  },
  {
   "cell_type": "markdown",
   "metadata": {},
   "source": [
    "> global Variable은 Closure Cells에 포함되지 않는다. Closure의 특징은 해당 값을 복사하여 내부에 저장하는 데에 있기 때문이다. 그렇기 때문에 위에 정의된 `print_name`은 global variable인 `name`이 바뀌자마자 적용되고, closure cells은 그러지 않다."
   ]
  },
  {
   "cell_type": "code",
   "execution_count": 18,
   "metadata": {},
   "outputs": [
    {
     "name": "stdout",
     "output_type": "stream",
     "text": [
      "my name is 선열\n"
     ]
    }
   ],
   "source": [
    "name = '선열'\n",
    "print_name()"
   ]
  },
  {
   "cell_type": "code",
   "execution_count": 19,
   "metadata": {},
   "outputs": [
    {
     "name": "stdout",
     "output_type": "stream",
     "text": [
      "성중쌤 say : Hi\n"
     ]
    }
   ],
   "source": [
    "my_func()"
   ]
  },
  {
   "cell_type": "markdown",
   "metadata": {},
   "source": [
    "이러한 closure의 특징들은 함수를 찍어내서 만들 수 있도록 도와준다. Closure가 없었더라면, 함수를 만드는 함수의 variable들은 서로 공유되어, 독립성을 갖지 못했을 것이다. 하지만 함수에 closure를 지원하게 됨으로써, 우리는 안정적인 코드를 재사용할 수 있게 된다."
   ]
  },
  {
   "cell_type": "markdown",
   "metadata": {},
   "source": [
    "<hr>\n",
    "\n",
    "Copyright(c) 2019 by Public AI. All rights reserved. last updated on 2019/02/04<br>\n",
    "Writen by PAI, SangJae Kang(rocketgrowthsj@publicai.co.kr) \n",
    "<hr>"
   ]
  }
 ],
 "metadata": {
  "kernelspec": {
   "display_name": "Python 3",
   "language": "python",
   "name": "python3"
  },
  "language_info": {
   "codemirror_mode": {
    "name": "ipython",
    "version": 3
   },
   "file_extension": ".py",
   "mimetype": "text/x-python",
   "name": "python",
   "nbconvert_exporter": "python",
   "pygments_lexer": "ipython3",
   "version": "3.6.5"
  }
 },
 "nbformat": 4,
 "nbformat_minor": 2
}
