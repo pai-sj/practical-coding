{
 "cells": [
  {
   "cell_type": "markdown",
   "metadata": {
    "deletable": false,
    "editable": false
   },
   "source": [
    "# II. Python의 변수와 자료구조\n",
    "\n",
    "\n",
    "2019/01/26 (sat)"
   ]
  },
  {
   "cell_type": "code",
   "execution_count": 1,
   "metadata": {
    "deletable": false,
    "editable": false
   },
   "outputs": [],
   "source": [
    "# For Importing toggle.py in misc directory\n",
    "import sys\n",
    "sys.path.append(\"../misc\")\n",
    "from toggle import *"
   ]
  },
  {
   "cell_type": "markdown",
   "metadata": {
    "deletable": false,
    "editable": false
   },
   "source": [
    "\n",
    "<h1 style = \"background-color: rgba(185, 109, 106, 0.3);\" > I. Python의 변수</h1>\n",
    "> Python에서 Data를 담는 \"변수\" 라는 개념에 대해서 배워보겠습니다."
   ]
  },
  {
   "cell_type": "markdown",
   "metadata": {
    "deletable": false,
    "editable": false
   },
   "source": [
    "<h2 style=\"background-color: rgba(1, 56, 120, 0.1)\"> 1. 변수는 무엇인가. </h2>\n",
    "\n",
    "> 변수는 데이터를 담는 공간입니다.\n",
    "\n",
    "\n",
    "![](../images/13_Var_grim.png)\n"
   ]
  },
  {
   "cell_type": "markdown",
   "metadata": {},
   "source": [
    "#### (1) 변수에는 값을 저장할 수 있습니다."
   ]
  },
  {
   "cell_type": "code",
   "execution_count": 2,
   "metadata": {},
   "outputs": [],
   "source": [
    "a = True # Boolean 형(참 거짓)\n",
    "x = 1 # 정수형\n",
    "y = 1.2 # 실수형\n",
    "z = \"string\" # 문자열형"
   ]
  },
  {
   "cell_type": "code",
   "execution_count": 3,
   "metadata": {},
   "outputs": [],
   "source": [
    "# 1을 담았던 x에 다른 값을 덮어 씌울 수 있습니다.\n",
    "x = \"hello python\""
   ]
  },
  {
   "cell_type": "markdown",
   "metadata": {},
   "source": [
    "#### (2) 변수에는 변수를 저장할 수 있습니다. "
   ]
  },
  {
   "cell_type": "code",
   "execution_count": 4,
   "metadata": {},
   "outputs": [
    {
     "name": "stdout",
     "output_type": "stream",
     "text": [
      "x :  1.2\n",
      "y :  1.2\n"
     ]
    }
   ],
   "source": [
    "# y에 있었던 값을 x에 담을 수 있습니다.\n",
    "x = y\n",
    "print(\"x : \",x)\n",
    "print(\"y : \",y)"
   ]
  },
  {
   "cell_type": "code",
   "execution_count": 5,
   "metadata": {},
   "outputs": [
    {
     "name": "stdout",
     "output_type": "stream",
     "text": [
      "x :  string\n",
      "y :  string\n",
      "z :  string\n"
     ]
    }
   ],
   "source": [
    "# z를 x,y에 넣기 위해 아래와 같이 작성할 수 있습니다.\n",
    "x = y = z\n",
    "print(\"x : \",x)\n",
    "print(\"y : \",y)\n",
    "print(\"z : \",z)"
   ]
  },
  {
   "cell_type": "markdown",
   "metadata": {},
   "source": [
    "#### (3) 변수에는 결과를 저장할 수 있습니다."
   ]
  },
  {
   "cell_type": "code",
   "execution_count": 6,
   "metadata": {},
   "outputs": [
    {
     "data": {
      "text/plain": [
       "3"
      ]
     },
     "execution_count": 6,
     "metadata": {},
     "output_type": "execute_result"
    }
   ],
   "source": [
    "# x에 1과 2를 더한 값을 저장할 수 있습니다.\n",
    "x = 1 + 2\n",
    "x"
   ]
  },
  {
   "cell_type": "markdown",
   "metadata": {},
   "source": [
    "### 예제1. 변수에 데이터 저장하기\n",
    "Q. `bank` 라는 변수에 `12000`을 담아보세요.\n",
    "\n",
    "![](../images/14_예제_변수담기.png)\n"
   ]
  },
  {
   "cell_type": "code",
   "execution_count": 7,
   "metadata": {},
   "outputs": [],
   "source": [
    "# 해당 셀에 답을 입력해주세요.\n",
    "bank = 12000"
   ]
  },
  {
   "cell_type": "code",
   "execution_count": 8,
   "metadata": {},
   "outputs": [
    {
     "name": "stdout",
     "output_type": "stream",
     "text": [
      "정답입니다 !\n"
     ]
    },
    {
     "data": {
      "text/html": [
       "\n",
       "        <script>\n",
       "            function code_toggle_649489012928350491() {\n",
       "                $('div.cell.code_cell.rendered.selected').find('div.input').toggle();\n",
       "            }\n",
       "\n",
       "            \n",
       "        </script>\n",
       "\n",
       "        <a href=\"javascript:code_toggle_649489012928350491()\">　</a>\n",
       "    "
      ],
      "text/plain": [
       "<IPython.core.display.HTML object>"
      ]
     },
     "execution_count": 8,
     "metadata": {},
     "output_type": "execute_result"
    }
   ],
   "source": [
    "answer = 12000\n",
    "\n",
    "try:\n",
    "    correct = (answer == bank)\n",
    "except NameError as e:\n",
    "    print(\"틀렸습니다. 변수명은 bank로 작성해주셔야 합니다. \")\n",
    "else:\n",
    "    if correct:\n",
    "        print(\"정답입니다 !\")\n",
    "    else:\n",
    "        print(\"틀렸습니다. 값을 다시 확인 해 주세요.\")\n",
    "        \n",
    "toggle(text=\"　\")"
   ]
  },
  {
   "cell_type": "code",
   "execution_count": 9,
   "metadata": {
    "scrolled": true
   },
   "outputs": [
    {
     "data": {
      "text/html": [
       "\n",
       "        <script>\n",
       "            function code_toggle_3863472175511650078() {\n",
       "                $('div.cell.code_cell.rendered.selected').find('div.input').toggle();\n",
       "            }\n",
       "\n",
       "            \n",
       "        </script>\n",
       "\n",
       "        <a href=\"javascript:code_toggle_3863472175511650078()\">클릭하여 정답확인</a>\n",
       "    "
      ],
      "text/plain": [
       "<IPython.core.display.HTML object>"
      ]
     },
     "execution_count": 9,
     "metadata": {},
     "output_type": "execute_result"
    }
   ],
   "source": [
    "##########################\n",
    "\n",
    "bank = 12000\n",
    "\n",
    "##########################\n",
    "toggle(text=\"클릭하여 정답확인\")"
   ]
  },
  {
   "cell_type": "markdown",
   "metadata": {},
   "source": [
    "<hr>\n",
    "\n",
    "<h1 style = \"background-color: rgba(185, 109, 106, 0.3);\" > II. Python의 자료구조</h1>\n",
    "\n",
    "> 파이썬에서는 기본 변수이외에도 List, Tuple, Set, Dictionary 와 같은 다양한 자료구조를 지원합니다.\n"
   ]
  },
  {
   "cell_type": "markdown",
   "metadata": {},
   "source": [
    "<h2 style=\"background-color: rgba(1, 56, 120, 0.1)\"> 1. List </h2>\n",
    "\n",
    "    list(리스트)는 여러개의 객체를 담을 수 있습니다.\n",
    "    list는 요소들의 순서가 유의미합니다.\n",
    "    list는 한번 생성된 이후 수정, 삭제, 추가가 가능합니다.\n",
    "    "
   ]
  },
  {
   "cell_type": "markdown",
   "metadata": {},
   "source": [
    "### (1) List의 생성\n",
    "list 내에는 숫자 뿐 아니라 다양한 타입의 변수를 담을 수 있습니다."
   ]
  },
  {
   "cell_type": "code",
   "execution_count": 10,
   "metadata": {},
   "outputs": [
    {
     "data": {
      "text/plain": [
       "[]"
      ]
     },
     "execution_count": 10,
     "metadata": {},
     "output_type": "execute_result"
    }
   ],
   "source": [
    "# 비어있는 List를 생성합니다.\n",
    "lst0 = []\n",
    "lst0 = list()\n",
    "lst0"
   ]
  },
  {
   "cell_type": "code",
   "execution_count": 11,
   "metadata": {},
   "outputs": [
    {
     "data": {
      "text/plain": [
       "[1, 2, 3, 4, 5]"
      ]
     },
     "execution_count": 11,
     "metadata": {},
     "output_type": "execute_result"
    }
   ],
   "source": [
    "# 여러개의 숫자들을 저장합니다.\n",
    "lst1 = [1,2,3,4,5]\n",
    "lst1"
   ]
  },
  {
   "cell_type": "code",
   "execution_count": 12,
   "metadata": {},
   "outputs": [
    {
     "data": {
      "text/plain": [
       "[1, 2, 3, 5.5, 'str1']"
      ]
     },
     "execution_count": 12,
     "metadata": {},
     "output_type": "execute_result"
    }
   ],
   "source": [
    "# 정수 이외의 실수나 text도 담을 수 있습니다.\n",
    "lst2 = [1,2,3,5.5,\"str1\"]\n",
    "lst2"
   ]
  },
  {
   "cell_type": "code",
   "execution_count": 13,
   "metadata": {},
   "outputs": [
    {
     "data": {
      "text/plain": [
       "[1, 2, 3, 4, [1, 2, 3, 5.5, 'str1']]"
      ]
     },
     "execution_count": 13,
     "metadata": {},
     "output_type": "execute_result"
    }
   ],
   "source": [
    "# 리스트 내에 리스트 또는 변수를 담을 수 있습니다.\n",
    "var1 = 1\n",
    "lst3 = [var1, 2,3,4, lst2]\n",
    "lst3"
   ]
  },
  {
   "cell_type": "markdown",
   "metadata": {},
   "source": [
    "### (2) List에서 값 얻기\n",
    "list 뒤의 대괄호에 index를 넣어 값을 얻습니다."
   ]
  },
  {
   "cell_type": "code",
   "execution_count": 14,
   "metadata": {},
   "outputs": [],
   "source": [
    "lst = [1,2,3,4,5]"
   ]
  },
  {
   "cell_type": "code",
   "execution_count": 15,
   "metadata": {},
   "outputs": [
    {
     "data": {
      "text/plain": [
       "3"
      ]
     },
     "execution_count": 15,
     "metadata": {},
     "output_type": "execute_result"
    }
   ],
   "source": [
    "# list의 2번째 index 값 가져오기\n",
    "# *주의 : python 에서 index는 0부터 시작합니다.\n",
    "element_1 = lst[2]\n",
    "element_1"
   ]
  },
  {
   "cell_type": "code",
   "execution_count": 16,
   "metadata": {},
   "outputs": [
    {
     "data": {
      "text/plain": [
       "4"
      ]
     },
     "execution_count": 16,
     "metadata": {},
     "output_type": "execute_result"
    }
   ],
   "source": [
    "# list의 마지막 값 얻기\n",
    "# 마지막 index은 -1로, 역 순으로 -2, -3으로 진행합니다.\n",
    "element_4 = lst[-2]\n",
    "element_4"
   ]
  },
  {
   "cell_type": "code",
   "execution_count": 17,
   "metadata": {},
   "outputs": [
    {
     "data": {
      "text/plain": [
       "[2, 3, 4]"
      ]
     },
     "execution_count": 17,
     "metadata": {},
     "output_type": "execute_result"
    }
   ],
   "source": [
    "# list의 범위 지정\n",
    "# 1번째 이상 4번째 미만 값을 가져오기 위해서는 :을 이용합니다.\n",
    "element_2 = lst[1:4]\n",
    "element_2"
   ]
  },
  {
   "cell_type": "code",
   "execution_count": 18,
   "metadata": {},
   "outputs": [
    {
     "data": {
      "text/plain": [
       "[4, 5]"
      ]
     },
     "execution_count": 18,
     "metadata": {},
     "output_type": "execute_result"
    }
   ],
   "source": [
    "# list의 세번째 이후 값 얻기\n",
    "element_3 = lst[3:]\n",
    "element_3"
   ]
  },
  {
   "cell_type": "code",
   "execution_count": 19,
   "metadata": {},
   "outputs": [
    {
     "data": {
      "text/plain": [
       "[1, 3, 5]"
      ]
     },
     "execution_count": 19,
     "metadata": {},
     "output_type": "execute_result"
    }
   ],
   "source": [
    "# list의 범위에서 step 값을 주어 그 값만큼 건너뛰어 가져올 수 있습니다.\n",
    "element_5 = lst[0:5:2]\n",
    "element_5"
   ]
  },
  {
   "cell_type": "code",
   "execution_count": 20,
   "metadata": {},
   "outputs": [
    {
     "data": {
      "text/plain": [
       "True"
      ]
     },
     "execution_count": 20,
     "metadata": {},
     "output_type": "execute_result"
    }
   ],
   "source": [
    "# list에 값이 있는지는 in 연산자를 통해 알 수 있습니다.\n",
    "1 in lst"
   ]
  },
  {
   "cell_type": "markdown",
   "metadata": {},
   "source": [
    "### (3) List에 값 추가하기\n",
    "list는 `append()` 또는 `insert()`를 통해 값을 추가 해 줍니다."
   ]
  },
  {
   "cell_type": "code",
   "execution_count": 21,
   "metadata": {},
   "outputs": [],
   "source": [
    "lst = [1,2,3,4,5]"
   ]
  },
  {
   "cell_type": "code",
   "execution_count": 22,
   "metadata": {},
   "outputs": [
    {
     "data": {
      "text/plain": [
       "[1, 2, 3, 4, 5, 6]"
      ]
     },
     "execution_count": 22,
     "metadata": {},
     "output_type": "execute_result"
    }
   ],
   "source": [
    "# lst의 가장 뒤에 값 추가하기\n",
    "lst.append(6)\n",
    "lst"
   ]
  },
  {
   "cell_type": "code",
   "execution_count": 23,
   "metadata": {},
   "outputs": [
    {
     "data": {
      "text/plain": [
       "[1, 2, 2.5, 3, 4, 5, 6]"
      ]
     },
     "execution_count": 23,
     "metadata": {},
     "output_type": "execute_result"
    }
   ],
   "source": [
    "# lst 의 세번째에 2.5의 값 추가하기\n",
    "lst.insert(2,2.5)\n",
    "lst"
   ]
  },
  {
   "cell_type": "markdown",
   "metadata": {},
   "source": [
    "### (4) List의 특정 원소값 수정하기\n",
    "lst 의 특정 원소를 수정하는 것은 index를 활용"
   ]
  },
  {
   "cell_type": "code",
   "execution_count": 24,
   "metadata": {},
   "outputs": [
    {
     "data": {
      "text/plain": [
       "[1, 2, 6, 4, 5]"
      ]
     },
     "execution_count": 24,
     "metadata": {},
     "output_type": "execute_result"
    }
   ],
   "source": [
    "# lst의 세번째 값을 6으로 바꾸기\n",
    "lst = [1,2,3,4,5]\n",
    "lst[2] = 6\n",
    "lst"
   ]
  },
  {
   "cell_type": "markdown",
   "metadata": {},
   "source": [
    "### (5) List의 특정 원소 제거하기\n",
    "`del` 을 이용한 방법과 `L.remove()`를 이용한 방법"
   ]
  },
  {
   "cell_type": "code",
   "execution_count": 25,
   "metadata": {},
   "outputs": [],
   "source": [
    "lst = [1,2,3,4,5]"
   ]
  },
  {
   "cell_type": "code",
   "execution_count": 26,
   "metadata": {},
   "outputs": [
    {
     "data": {
      "text/plain": [
       "[1, 2, 4, 5]"
      ]
     },
     "execution_count": 26,
     "metadata": {},
     "output_type": "execute_result"
    }
   ],
   "source": [
    "# del을 이용하여 lst의 세번째 값 제거하기\n",
    "del lst[2]\n",
    "lst"
   ]
  },
  {
   "cell_type": "code",
   "execution_count": 27,
   "metadata": {},
   "outputs": [
    {
     "data": {
      "text/plain": [
       "[1, 2, 5]"
      ]
     },
     "execution_count": 27,
     "metadata": {},
     "output_type": "execute_result"
    }
   ],
   "source": [
    "# remove를 이용하여 lst내의 4 를 제거하기\n",
    "# *주의 : 만약 remove(#) : # 의 값이 list에 존재하지 않을 경우 ValueError 가 발생한다.\n",
    "lst.remove(4)\n",
    "lst"
   ]
  },
  {
   "cell_type": "markdown",
   "metadata": {},
   "source": [
    "<hr>\n",
    "<h2 style=\"background-color: rgba(1, 56, 120, 0.1)\"> 2. Tuple </h2>\n",
    "    \n",
    "    tuple(튜플)은 List와 비슷하지만, 한 번 생성하면 값을 변경할 수 없는 객체의 집합입니다.\n",
    "    \n",
    "    tuple은 list와 마찬가지로 여러개의 객체를 담을 수 있습니다.\n",
    "    tuple은 list와 마찬가지로 다양한 타입이 함께 포함될 수 있습니다.\n",
    "    \n",
    "    tuple은 한 번 생성하면 tuple내의 값을 수정, 추가, 삭제가 불가능 합니다.\n",
    "    "
   ]
  },
  {
   "cell_type": "markdown",
   "metadata": {},
   "source": [
    "### (1) Tuple 생성하기\n",
    "\n",
    "list와 비슷한 방식으로 동작합니다."
   ]
  },
  {
   "cell_type": "code",
   "execution_count": 28,
   "metadata": {},
   "outputs": [
    {
     "data": {
      "text/plain": [
       "()"
      ]
     },
     "execution_count": 28,
     "metadata": {},
     "output_type": "execute_result"
    }
   ],
   "source": [
    "# 비어있는 Tuple를 생성합니다.\n",
    "tpl = ()\n",
    "tpl = tuple()\n",
    "tpl"
   ]
  },
  {
   "cell_type": "code",
   "execution_count": 29,
   "metadata": {},
   "outputs": [
    {
     "data": {
      "text/plain": [
       "(1, 2, 3, 4, 5)"
      ]
     },
     "execution_count": 29,
     "metadata": {},
     "output_type": "execute_result"
    }
   ],
   "source": [
    "# 여러개의 숫자들을 저장합니다.\n",
    "tpl = (1,2,3,4,5)\n",
    "tpl"
   ]
  },
  {
   "cell_type": "code",
   "execution_count": 30,
   "metadata": {},
   "outputs": [
    {
     "data": {
      "text/plain": [
       "(1, 2, 3, 5.5, 'str1')"
      ]
     },
     "execution_count": 30,
     "metadata": {},
     "output_type": "execute_result"
    }
   ],
   "source": [
    "# 정수 이외의 실수나 text도 담을 수 있습니다.\n",
    "tpl = (1,2,3,5.5,\"str1\")\n",
    "tpl"
   ]
  },
  {
   "cell_type": "code",
   "execution_count": 31,
   "metadata": {},
   "outputs": [
    {
     "data": {
      "text/plain": [
       "[1, 2, 3, 4, (1, 2, 3, 5.5, 'str1')]"
      ]
     },
     "execution_count": 31,
     "metadata": {},
     "output_type": "execute_result"
    }
   ],
   "source": [
    "# tuple 내에 tuple, 리스트 또는 변수를 담을 수 있습니다.\n",
    "var_1 = 1\n",
    "tpl_1 = [var_1, 2,3,4, tpl]\n",
    "tpl_1"
   ]
  },
  {
   "cell_type": "markdown",
   "metadata": {},
   "source": [
    "### (2) Tuple에서 값 얻기\n",
    "list와 동일한 형태로, Tuple 뒤의 대괄호에 index를 넣어 값을 얻습니다."
   ]
  },
  {
   "cell_type": "code",
   "execution_count": 32,
   "metadata": {},
   "outputs": [],
   "source": [
    "tpl = [1,2,3,4,5]"
   ]
  },
  {
   "cell_type": "code",
   "execution_count": 33,
   "metadata": {},
   "outputs": [
    {
     "data": {
      "text/plain": [
       "3"
      ]
     },
     "execution_count": 33,
     "metadata": {},
     "output_type": "execute_result"
    }
   ],
   "source": [
    "# tuple의 2번째 index 값 가져오기\n",
    "# *주의 : python 에서 index는 0부터 시작합니다.\n",
    "element_1 = tpl[2]\n",
    "element_1"
   ]
  },
  {
   "cell_type": "code",
   "execution_count": 34,
   "metadata": {},
   "outputs": [
    {
     "data": {
      "text/plain": [
       "4"
      ]
     },
     "execution_count": 34,
     "metadata": {},
     "output_type": "execute_result"
    }
   ],
   "source": [
    "# tuple의 마지막 값 얻기\n",
    "# 마지막 index은 -1로, 역 순으로 -2, -3으로 진행합니다.\n",
    "element_4 = tpl[-2]\n",
    "element_4"
   ]
  },
  {
   "cell_type": "code",
   "execution_count": 35,
   "metadata": {},
   "outputs": [
    {
     "data": {
      "text/plain": [
       "[2, 3, 4]"
      ]
     },
     "execution_count": 35,
     "metadata": {},
     "output_type": "execute_result"
    }
   ],
   "source": [
    "# tuple의 범위 지정\n",
    "# 1번째 이상 4번째 미만 값을 가져오기 위해서는 :을 이용합니다.\n",
    "element_2 = tpl[1:4]\n",
    "element_2"
   ]
  },
  {
   "cell_type": "code",
   "execution_count": 36,
   "metadata": {},
   "outputs": [
    {
     "data": {
      "text/plain": [
       "[4, 5]"
      ]
     },
     "execution_count": 36,
     "metadata": {},
     "output_type": "execute_result"
    }
   ],
   "source": [
    "# tuple의 세번째 이후 값 얻기\n",
    "element_3 = tpl[3:]\n",
    "element_3"
   ]
  },
  {
   "cell_type": "code",
   "execution_count": 37,
   "metadata": {},
   "outputs": [
    {
     "data": {
      "text/plain": [
       "[1, 3, 5]"
      ]
     },
     "execution_count": 37,
     "metadata": {},
     "output_type": "execute_result"
    }
   ],
   "source": [
    "# tuple의 범위에서 step 값을 주어 그 값만큼 건너뛰어 가져올 수 있습니다.\n",
    "element_5 = tpl[0:5:2]\n",
    "element_5"
   ]
  },
  {
   "cell_type": "code",
   "execution_count": 38,
   "metadata": {},
   "outputs": [
    {
     "data": {
      "text/plain": [
       "True"
      ]
     },
     "execution_count": 38,
     "metadata": {},
     "output_type": "execute_result"
    }
   ],
   "source": [
    "# tuple에 값이 있는지는 in 연산자를 통해 알 수 있습니다.\n",
    "1 in tpl"
   ]
  },
  {
   "cell_type": "markdown",
   "metadata": {},
   "source": [
    "<hr>\n",
    "<h2 style=\"background-color: rgba(1, 56, 120, 0.1)\"> 3. Set. </h2>\n",
    "\n",
    "    set(집합)은 여러개의 객체를 담을 수 있는 리스트와 유사하지만 2가지가 다릅니다.\n",
    "        1. 중복을 허용하지 않는다.\n",
    "        2. 순서가 없다.\n",
    "    중복을 허용하지 않는 set의 특징 덕분에 data의 중복을 제거하기 위한 수단으로 자주 쓰입니다. 대신 Set은 순서가 없기 때문에 list처럼 인덱싱으로 값을 얻을 수 없습니다. "
   ]
  },
  {
   "cell_type": "markdown",
   "metadata": {},
   "source": [
    "### (1) Set 생성하기\n",
    "\n",
    "set 내에는 숫자 뿐 아니라 다양한 타입의 변수를 담을 수 있습니다."
   ]
  },
  {
   "cell_type": "code",
   "execution_count": 39,
   "metadata": {},
   "outputs": [
    {
     "data": {
      "text/plain": [
       "set()"
      ]
     },
     "execution_count": 39,
     "metadata": {},
     "output_type": "execute_result"
    }
   ],
   "source": [
    "# 비어있는 Set를 생성합니다.\n",
    "set0 = set()\n",
    "set0"
   ]
  },
  {
   "cell_type": "code",
   "execution_count": 40,
   "metadata": {},
   "outputs": [
    {
     "data": {
      "text/plain": [
       "{1, 2, '2', 3, 'text'}"
      ]
     },
     "execution_count": 40,
     "metadata": {},
     "output_type": "execute_result"
    }
   ],
   "source": [
    "# 여러 값을 저장 가능하지만, 중복은 허용하지 않습니다.\n",
    "set1 = {1,1,2,\"2\",\"text\",\"text\",3}\n",
    "set1"
   ]
  },
  {
   "cell_type": "code",
   "execution_count": 41,
   "metadata": {},
   "outputs": [
    {
     "ename": "TypeError",
     "evalue": "unhashable type: 'list'",
     "output_type": "error",
     "traceback": [
      "\u001b[0;31m---------------------------------------------------------------------------\u001b[0m",
      "\u001b[0;31mTypeError\u001b[0m                                 Traceback (most recent call last)",
      "\u001b[0;32m<ipython-input-41-267774ded811>\u001b[0m in \u001b[0;36m<module>\u001b[0;34m\u001b[0m\n\u001b[1;32m      2\u001b[0m \u001b[0;31m# 왜냐하면 list는 변경가능하기 때문에,\u001b[0m\u001b[0;34m\u001b[0m\u001b[0;34m\u001b[0m\u001b[0m\n\u001b[1;32m      3\u001b[0m \u001b[0;31m# set의 \"중복을 허용하지 않는다\" 특징을 깰 수 있기 때문입니다.\u001b[0m\u001b[0;34m\u001b[0m\u001b[0;34m\u001b[0m\u001b[0m\n\u001b[0;32m----> 4\u001b[0;31m \u001b[0mset2\u001b[0m \u001b[0;34m=\u001b[0m \u001b[0;34m{\u001b[0m\u001b[0;36m1\u001b[0m\u001b[0;34m,\u001b[0m\u001b[0;36m2\u001b[0m\u001b[0;34m,\u001b[0m\u001b[0;34m[\u001b[0m\u001b[0;36m1\u001b[0m\u001b[0;34m,\u001b[0m\u001b[0;36m2\u001b[0m\u001b[0;34m,\u001b[0m\u001b[0;36m3\u001b[0m\u001b[0;34m]\u001b[0m\u001b[0;34m}\u001b[0m\u001b[0;34m\u001b[0m\u001b[0m\n\u001b[0m",
      "\u001b[0;31mTypeError\u001b[0m: unhashable type: 'list'"
     ]
    }
   ],
   "source": [
    "# set은 list나 tuple과 다르게, set 안에 list를 넣지 못합니다.\n",
    "# 왜냐하면 list는 변경가능하기 때문에, \n",
    "# set의 \"중복을 허용하지 않는다\" 특징을 깰 수 있기 때문입니다.\n",
    "set2 = {1,2,[1,2,3]}"
   ]
  },
  {
   "cell_type": "code",
   "execution_count": 42,
   "metadata": {},
   "outputs": [],
   "source": [
    "# 하지만 tuple은 변경이 불가능하기 때문에\n",
    "# set에 추가가 가능합니다.\n",
    "set2 = {1,2,(1,2,3)}"
   ]
  },
  {
   "cell_type": "markdown",
   "metadata": {},
   "source": [
    "### (2) Set에서 값 얻기\n",
    "set에는 순서가 없기 때문에 index를 통해 값을 가져올 수 없습니다. 하지만 값이 있는지는 확인할 수 있습니다."
   ]
  },
  {
   "cell_type": "code",
   "execution_count": 43,
   "metadata": {},
   "outputs": [
    {
     "data": {
      "text/plain": [
       "True"
      ]
     },
     "execution_count": 43,
     "metadata": {},
     "output_type": "execute_result"
    }
   ],
   "source": [
    "set1 = {1,1,2,\"2\",\"text\",\"text\",3}\n",
    "\n",
    "1 in set1"
   ]
  },
  {
   "cell_type": "markdown",
   "metadata": {},
   "source": [
    "### (3) Set에 값 추가하기\n",
    "Set는 `add()`와 `update()` 를 통해 값을 추가 해 줍니다."
   ]
  },
  {
   "cell_type": "code",
   "execution_count": 44,
   "metadata": {},
   "outputs": [],
   "source": [
    "set1 = {1,2,3,4,5}"
   ]
  },
  {
   "cell_type": "code",
   "execution_count": 45,
   "metadata": {},
   "outputs": [
    {
     "data": {
      "text/plain": [
       "{1, 2, 3, 4, 5, 6}"
      ]
     },
     "execution_count": 45,
     "metadata": {},
     "output_type": "execute_result"
    }
   ],
   "source": [
    "set1.add(6)\n",
    "set1"
   ]
  },
  {
   "cell_type": "code",
   "execution_count": 46,
   "metadata": {},
   "outputs": [
    {
     "data": {
      "text/plain": [
       "{1, 2, 3, 4, 5, 6, 7, 8, 9}"
      ]
     },
     "execution_count": 46,
     "metadata": {},
     "output_type": "execute_result"
    }
   ],
   "source": [
    "set1.update({7,8,9}) # 여러 개의 값을 추가할 때에는 update를 이용\n",
    "set1"
   ]
  },
  {
   "cell_type": "markdown",
   "metadata": {},
   "source": [
    "### (4) Set의 특정 원소 제거하기\n",
    "`remove()`를 이용하여 값을 제거할 수 있습니다."
   ]
  },
  {
   "cell_type": "code",
   "execution_count": 47,
   "metadata": {},
   "outputs": [],
   "source": [
    "set1 = {1,2,3,4,5}"
   ]
  },
  {
   "cell_type": "code",
   "execution_count": 48,
   "metadata": {},
   "outputs": [
    {
     "data": {
      "text/plain": [
       "{1, 2, 3, 5}"
      ]
     },
     "execution_count": 48,
     "metadata": {},
     "output_type": "execute_result"
    }
   ],
   "source": [
    "# remove를 이용하여 set내의 4 를 제거하기\n",
    "# *주의 : 만약 remove(#) : # 의 값이 set에 존재하지 않을 경우 ValueError 가 발생한다.\n",
    "set1.remove(4)\n",
    "set1"
   ]
  },
  {
   "cell_type": "markdown",
   "metadata": {},
   "source": [
    "<hr>\n",
    "<h2 style=\"background-color: rgba(1, 56, 120, 0.1)\"> 4. Dictionary </h2>\n",
    "\n",
    "dict 자료형은 키와 값을 한 쌍으로 가지는 자료형으로, `list의 index` 대신 key를 이용해서 데이터를 찾을 수 있다. 딕셔너리에서 저장된 자료는 순서가 없고 키는 set과 같이 중복을 허용하지 않는다. \n"
   ]
  },
  {
   "cell_type": "markdown",
   "metadata": {},
   "source": [
    "### (1) Dictionary 생성하기\n",
    "dict 내에는 숫자 뿐 아니라 다양한 타입의 변수를 담을 수 있습니다."
   ]
  },
  {
   "cell_type": "code",
   "execution_count": 49,
   "metadata": {},
   "outputs": [
    {
     "data": {
      "text/plain": [
       "{}"
      ]
     },
     "execution_count": 49,
     "metadata": {},
     "output_type": "execute_result"
    }
   ],
   "source": [
    "# 비어있는 dict를 생성합니다.\n",
    "dict0 = {} #\n",
    "dict0 = dict()\n",
    "dict0"
   ]
  },
  {
   "cell_type": "code",
   "execution_count": 50,
   "metadata": {},
   "outputs": [
    {
     "data": {
      "text/plain": [
       "{'1': 'a', '2': 'b', '3': 1, 'c': 'test'}"
      ]
     },
     "execution_count": 50,
     "metadata": {},
     "output_type": "execute_result"
    }
   ],
   "source": [
    "# 여러개의 key와 value들을 저장합니다.\n",
    "dict1 = {'1':'a',\n",
    "        '2':'b',\n",
    "        '3':1,\n",
    "        'c':'test'}\n",
    "dict1"
   ]
  },
  {
   "cell_type": "code",
   "execution_count": 51,
   "metadata": {},
   "outputs": [
    {
     "data": {
      "text/plain": [
       "{'1': 'a', '2': [1, 2, 3, 4], '3': (1, 2, 3), 'c': {1: '1', 2: '2'}}"
      ]
     },
     "execution_count": 51,
     "metadata": {},
     "output_type": "execute_result"
    }
   ],
   "source": [
    "# dict 내에 리스트나 tuple, dict로 포함할 수 있습니다.\n",
    "dict1 = {'1':'a',\n",
    "        '2':[1,2,3,4],\n",
    "        '3':(1,2,3),\n",
    "        'c':{1:'1',2:'2'}}\n",
    "dict1"
   ]
  },
  {
   "cell_type": "markdown",
   "metadata": {},
   "source": [
    "### (2) dict에서 값 얻기\n",
    "Dcit 뒤의 대괄호에 key값을 넣어 가져옵니다."
   ]
  },
  {
   "cell_type": "code",
   "execution_count": 52,
   "metadata": {},
   "outputs": [],
   "source": [
    "dict1 = {\"1\":\"a\",\"2\":\"b\",\"3\":4}"
   ]
  },
  {
   "cell_type": "code",
   "execution_count": 53,
   "metadata": {},
   "outputs": [
    {
     "data": {
      "text/plain": [
       "'a'"
      ]
     },
     "execution_count": 53,
     "metadata": {},
     "output_type": "execute_result"
    }
   ],
   "source": [
    "dict1['1']"
   ]
  },
  {
   "cell_type": "code",
   "execution_count": 54,
   "metadata": {},
   "outputs": [
    {
     "ename": "KeyError",
     "evalue": "3",
     "output_type": "error",
     "traceback": [
      "\u001b[0;31m---------------------------------------------------------------------------\u001b[0m",
      "\u001b[0;31mKeyError\u001b[0m                                  Traceback (most recent call last)",
      "\u001b[0;32m<ipython-input-54-102b2f7a78e2>\u001b[0m in \u001b[0;36m<module>\u001b[0;34m\u001b[0m\n\u001b[0;32m----> 1\u001b[0;31m \u001b[0mdict1\u001b[0m\u001b[0;34m[\u001b[0m\u001b[0;36m3\u001b[0m\u001b[0;34m]\u001b[0m \u001b[0;31m# 문자열과 정수형은 구분해주어야 한다.\u001b[0m\u001b[0;34m\u001b[0m\u001b[0m\n\u001b[0m",
      "\u001b[0;31mKeyError\u001b[0m: 3"
     ]
    }
   ],
   "source": [
    "dict1[3] # 문자열과 정수형은 구분해주어야 한다."
   ]
  },
  {
   "cell_type": "markdown",
   "metadata": {},
   "source": [
    "### (3) Dict에 값 추가 혹은 변경하기\n",
    "Dict는 key를 통한 값을 가져오는 것과 비슷한 방식으로 변경할 수 있습니다."
   ]
  },
  {
   "cell_type": "code",
   "execution_count": 55,
   "metadata": {},
   "outputs": [],
   "source": [
    "dict2 = {\"1\":\"a\",\"2\":\"b\",\"3\":\"4\"}"
   ]
  },
  {
   "cell_type": "code",
   "execution_count": 56,
   "metadata": {},
   "outputs": [
    {
     "data": {
      "text/plain": [
       "{'1': 'a', '2': 'b', '3': '4', '4': 'hello'}"
      ]
     },
     "execution_count": 56,
     "metadata": {},
     "output_type": "execute_result"
    }
   ],
   "source": [
    "# dict2의 key '4'에 'hello'를 추가\n",
    "dict2['4'] = 'hello'\n",
    "dict2"
   ]
  },
  {
   "cell_type": "code",
   "execution_count": 57,
   "metadata": {},
   "outputs": [
    {
     "data": {
      "text/plain": [
       "{'1': 10, '2': 'b', '3': '4', '4': 'hello'}"
      ]
     },
     "execution_count": 57,
     "metadata": {},
     "output_type": "execute_result"
    }
   ],
   "source": [
    "# dict2의 key '1'에 'a' 대신 10으로 변경\n",
    "dict2['1'] = 10\n",
    "dict2"
   ]
  },
  {
   "cell_type": "markdown",
   "metadata": {},
   "source": [
    "### (4) Dict의 특정 원소 제거하기\n",
    "`del` 을 이용한 방법과 `L.pop()`를 이용한 방법"
   ]
  },
  {
   "cell_type": "code",
   "execution_count": 58,
   "metadata": {},
   "outputs": [],
   "source": [
    "dict2 = {\"1\":\"a\",\"2\":\"b\",\"3\":\"4\"}"
   ]
  },
  {
   "cell_type": "code",
   "execution_count": 59,
   "metadata": {},
   "outputs": [
    {
     "data": {
      "text/plain": [
       "{'2': 'b', '3': '4'}"
      ]
     },
     "execution_count": 59,
     "metadata": {},
     "output_type": "execute_result"
    }
   ],
   "source": [
    "# del을 이용하여 '1'의 키 값을 가진 쌍 제거하기\n",
    "del dict2['1']\n",
    "dict2"
   ]
  },
  {
   "cell_type": "code",
   "execution_count": 60,
   "metadata": {},
   "outputs": [
    {
     "data": {
      "text/plain": [
       "{'3': '4'}"
      ]
     },
     "execution_count": 60,
     "metadata": {},
     "output_type": "execute_result"
    }
   ],
   "source": [
    "# pop를 이용하여 '2'의 키 값을 가진 쌍 제거하기\n",
    "# *주의 : 만약 pop(#) : # 의 값이 dict에 존재하지 않을 경우 ValueError 가 발생한다.\n",
    "dict2.pop('2')\n",
    "dict2"
   ]
  },
  {
   "cell_type": "markdown",
   "metadata": {},
   "source": [
    "<hr>\n",
    "<h2 style=\"background-color: rgba(1, 56, 120, 0.1)\"> 5. 기본 자료구조를 다루기 위한 함수들 </h2>\n",
    "\n",
    "위의 자료 구조를 보다 잘 다루기 위해서 Python에서는 자료구조의 크기를 재는 `len` 함수와 자료구조를 정렬하는 `sorted` 함수를 제공한다. "
   ]
  },
  {
   "cell_type": "markdown",
   "metadata": {},
   "source": [
    "### (1) len으로 크기 재기\n",
    "\n",
    "set 내에는 숫자 뿐 아니라 다양한 타입의 변수를 담을 수 있습니다."
   ]
  },
  {
   "cell_type": "code",
   "execution_count": 61,
   "metadata": {},
   "outputs": [
    {
     "data": {
      "text/plain": [
       "5"
      ]
     },
     "execution_count": 61,
     "metadata": {},
     "output_type": "execute_result"
    }
   ],
   "source": [
    "lst = [1,2,3,4,5]\n",
    "len(lst)"
   ]
  },
  {
   "cell_type": "code",
   "execution_count": 62,
   "metadata": {},
   "outputs": [
    {
     "data": {
      "text/plain": [
       "2"
      ]
     },
     "execution_count": 62,
     "metadata": {},
     "output_type": "execute_result"
    }
   ],
   "source": [
    "dict1 = {1:2,2:[3,4,5]}\n",
    "len(dict1) # 몇개의 Key가 있는지를 반환합니다"
   ]
  },
  {
   "cell_type": "markdown",
   "metadata": {},
   "source": [
    "### 2) sorted로 정렬하기\n",
    "\n",
    "모든 자료구조는 sorted를 통해 정렬할 수 있습니다."
   ]
  },
  {
   "cell_type": "code",
   "execution_count": 63,
   "metadata": {},
   "outputs": [
    {
     "data": {
      "text/plain": [
       "[1, 2, 3, 4, 5]"
      ]
     },
     "execution_count": 63,
     "metadata": {},
     "output_type": "execute_result"
    }
   ],
   "source": [
    "lst = [1,3,2,4,5]\n",
    "sorted(lst) # 기본적으로 오름차순으로 정렬합니다."
   ]
  },
  {
   "cell_type": "code",
   "execution_count": 64,
   "metadata": {},
   "outputs": [
    {
     "data": {
      "text/plain": [
       "[5, 4, 3, 2, 1]"
      ]
     },
     "execution_count": 64,
     "metadata": {},
     "output_type": "execute_result"
    }
   ],
   "source": [
    "sorted(lst,reverse=True) # reverse=True하면 내림차순으로 정렬합니다."
   ]
  },
  {
   "cell_type": "code",
   "execution_count": 65,
   "metadata": {},
   "outputs": [
    {
     "data": {
      "text/plain": [
       "[1, 2, 3, 4, 5, 6]"
      ]
     },
     "execution_count": 65,
     "metadata": {},
     "output_type": "execute_result"
    }
   ],
   "source": [
    "set1 = {1,5,3,2,4,6}\n",
    "sorted(set1) # set을 정렬하면, list로 원소들을 정렬한 채 반환합니다."
   ]
  },
  {
   "cell_type": "markdown",
   "metadata": {},
   "source": [
    "<hr>\n",
    "\n",
    "Copyright(c) 2019 by Public AI. All rights reserved.<br>\n",
    "Writen by PAI, SeonYoul Choi ( Best10@publicai.co.kr )  last updated on 2019/01/24\n",
    "<hr>"
   ]
  }
 ],
 "metadata": {
  "celltoolbar": "Edit Metadata",
  "kernelspec": {
   "display_name": "Python 3",
   "language": "python",
   "name": "python3"
  },
  "language_info": {
   "codemirror_mode": {
    "name": "ipython",
    "version": 3
   },
   "file_extension": ".py",
   "mimetype": "text/x-python",
   "name": "python",
   "nbconvert_exporter": "python",
   "pygments_lexer": "ipython3",
   "version": "3.6.5"
  }
 },
 "nbformat": 4,
 "nbformat_minor": 2
}
