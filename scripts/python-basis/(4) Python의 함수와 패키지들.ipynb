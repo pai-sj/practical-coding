{
 "cells": [
  {
   "cell_type": "markdown",
   "metadata": {},
   "source": [
    "# IV. Python의 함수와 패키지들\n",
    "\n",
    "\n",
    "2019/01/26 (sat)"
   ]
  },
  {
   "attachments": {},
   "cell_type": "markdown",
   "metadata": {},
   "source": [
    "<h1 style = \"background-color: rgba(185, 109, 106, 0.3);\" > I. Python에서의 함수 </h1>\n",
    "\n",
    "> 프로그래밍에서는 똑같은 내용을 반복하는 경우, 그것을 하나의 `함수`로 정의하여, 반복을 피한다. 파이썬에서의 함수는 수학에서의 함수와 비슷하면서도 약간 다르다. \n",
    "\n",
    "![image.png](https://upload.wikimedia.org/wikipedia/commons/thumb/3/3b/Function_machine2.svg/440px-Function_machine2.svg.png)\n",
    "\n",
    "위와 같이 특정한 `input x`를 받아 일련의 과정`function f`를 거쳐 `output f(x)`를 반환하는 것을 함수라 한다. "
   ]
  },
  {
   "cell_type": "markdown",
   "metadata": {},
   "source": [
    "<h2 style=\"background-color: rgba(1, 56, 120, 0.1)\"> 1. 함수 정의하기 </h2>\n",
    "\n",
    "> 파이썬에서는 함수를 정의하기 위해서는 `def`라는 예약어를 통해 정의해주어야 합니다.\n",
    " "
   ]
  },
  {
   "cell_type": "markdown",
   "metadata": {},
   "source": [
    "python에서의 함수 구조는 아래와 같다.\n",
    "\n",
    "```python\n",
    "def add(a, b):\n",
    "    result = a + b\n",
    "    return result\n",
    "```\n",
    "\n",
    "* `add` : 해당 함수의 이름 (**필수**) \n",
    "* `a,b` : 함수에 들어가는 매개변수 (*옵션*)\n",
    "* `return` : 함수의 출력값인 output (*옵션*)"
   ]
  },
  {
   "cell_type": "markdown",
   "metadata": {},
   "source": [
    "#### (1) 함수를 정의하기\n",
    "\n",
    "아래는 모든 요소 이름, 매개변수, 출력값을 갖춘 함수이다. "
   ]
  },
  {
   "cell_type": "code",
   "execution_count": 1,
   "metadata": {},
   "outputs": [],
   "source": [
    "def add(a, b):\n",
    "    result = a + b\n",
    "    return result"
   ]
  },
  {
   "cell_type": "code",
   "execution_count": 2,
   "metadata": {},
   "outputs": [
    {
     "data": {
      "text/plain": [
       "8"
      ]
     },
     "execution_count": 2,
     "metadata": {},
     "output_type": "execute_result"
    }
   ],
   "source": [
    "# 함수를 호출하기\n",
    "y = add(3,5) # 결과를 y에 담을 수 있음\n",
    "y"
   ]
  },
  {
   "cell_type": "markdown",
   "metadata": {},
   "source": [
    "#### (2) 다양한 형태의 함수들"
   ]
  },
  {
   "cell_type": "markdown",
   "metadata": {},
   "source": [
    "* 매개변수, 출력값 없는 함수"
   ]
  },
  {
   "cell_type": "code",
   "execution_count": 3,
   "metadata": {},
   "outputs": [
    {
     "name": "stdout",
     "output_type": "stream",
     "text": [
      "Quack\n"
     ]
    }
   ],
   "source": [
    "# 함수를 정의하기\n",
    "def make_a_sound():\n",
    "    print(\"Quack\")\n",
    "    \n",
    "# 함수를 호출하기\n",
    "y = make_a_sound()"
   ]
  },
  {
   "cell_type": "code",
   "execution_count": 4,
   "metadata": {},
   "outputs": [],
   "source": [
    "y # None, 즉 아무 값도 없음을 의미"
   ]
  },
  {
   "cell_type": "markdown",
   "metadata": {},
   "source": [
    "* 매개변수만 없는 함수"
   ]
  },
  {
   "cell_type": "code",
   "execution_count": 5,
   "metadata": {},
   "outputs": [],
   "source": [
    "# 함수를 정의하기\n",
    "def agree():\n",
    "    return True\n",
    "\n",
    "# 함수를 호출하기\n",
    "y = agree()"
   ]
  },
  {
   "cell_type": "code",
   "execution_count": 6,
   "metadata": {},
   "outputs": [
    {
     "data": {
      "text/plain": [
       "True"
      ]
     },
     "execution_count": 6,
     "metadata": {},
     "output_type": "execute_result"
    }
   ],
   "source": [
    "y"
   ]
  },
  {
   "cell_type": "markdown",
   "metadata": {},
   "source": [
    "* (4) 반환값만 없는 함수"
   ]
  },
  {
   "cell_type": "code",
   "execution_count": 7,
   "metadata": {},
   "outputs": [
    {
     "name": "stdout",
     "output_type": "stream",
     "text": [
      "안녕하세요, 철수님\n"
     ]
    }
   ],
   "source": [
    "# 함수를 정의하기\n",
    "def hello_by(name):\n",
    "    print(\"안녕하세요, {}님\".format(name))\n",
    "    \n",
    "# 함수를 호출하기\n",
    "y = hello_by(\"철수\")"
   ]
  },
  {
   "cell_type": "markdown",
   "metadata": {},
   "source": [
    "<h2 style=\"background-color: rgba(1, 56, 120, 0.1)\"> 2. 함수 호출하기 </h2>\n",
    "\n",
    "> 파이썬에서는 함수를 호출할 때에는 다양한 방식으로 인자를 설정할 수 있습니다. \n",
    " "
   ]
  },
  {
   "cell_type": "markdown",
   "metadata": {},
   "source": [
    "#### (1) 파이썬에 내장된 함수들을 호출하기\n",
    "\n",
    "파이썬에서는 여러가지 내장된 함수들이 존재합니다. 이전에 배운 `len`, `sorted`도 함수이고, 그 외에도 `sum`, `max`, `min`, `abs` 등 다양하게 존재합니다."
   ]
  },
  {
   "cell_type": "markdown",
   "metadata": {},
   "source": [
    "* sum : 리스트의 원소들의 합을 구합니다."
   ]
  },
  {
   "cell_type": "code",
   "execution_count": 8,
   "metadata": {},
   "outputs": [
    {
     "data": {
      "text/plain": [
       "15"
      ]
     },
     "execution_count": 8,
     "metadata": {},
     "output_type": "execute_result"
    }
   ],
   "source": [
    "lst1 = [1,2,3,4,5]\n",
    "sum(lst1)"
   ]
  },
  {
   "cell_type": "markdown",
   "metadata": {},
   "source": [
    "* max : 리스트 중 제일 큰 값을 반환합니다."
   ]
  },
  {
   "cell_type": "code",
   "execution_count": 9,
   "metadata": {},
   "outputs": [
    {
     "data": {
      "text/plain": [
       "5"
      ]
     },
     "execution_count": 9,
     "metadata": {},
     "output_type": "execute_result"
    }
   ],
   "source": [
    "lst1 = [1,2,3,4,5]\n",
    "max(lst1)"
   ]
  },
  {
   "cell_type": "markdown",
   "metadata": {},
   "source": [
    "* min : 리스트 중 제일 작은 값을 반환합니다."
   ]
  },
  {
   "cell_type": "code",
   "execution_count": 10,
   "metadata": {},
   "outputs": [
    {
     "data": {
      "text/plain": [
       "1"
      ]
     },
     "execution_count": 10,
     "metadata": {},
     "output_type": "execute_result"
    }
   ],
   "source": [
    "lst1 = [1,2,3,4,5]\n",
    "min(lst1)"
   ]
  },
  {
   "cell_type": "markdown",
   "metadata": {},
   "source": [
    "* abs : 절대값으로 바꾸어 줍니다"
   ]
  },
  {
   "cell_type": "code",
   "execution_count": 11,
   "metadata": {},
   "outputs": [
    {
     "data": {
      "text/plain": [
       "1.7"
      ]
     },
     "execution_count": 11,
     "metadata": {},
     "output_type": "execute_result"
    }
   ],
   "source": [
    "abs(-1.7)"
   ]
  },
  {
   "cell_type": "markdown",
   "metadata": {},
   "source": [
    "#### (2) 다양한 형태의 함수 호출하기\n",
    "\n",
    "> 함수의 인자에는 디폴트 값을 지정할 수 있습니다. 함수를 정의할 때, 인자 옆에 등호(=)와 함께 값을 지정할 경우, 해당 인자가 지정안되었을 때 지정된 값을 기본값으로 정합니다."
   ]
  },
  {
   "cell_type": "code",
   "execution_count": 12,
   "metadata": {},
   "outputs": [],
   "source": [
    "def print_with_arguments(name=\"'미상'\", age=20):\n",
    "    print(\"당신의 이름은 {}이며, 나이는 {}입니다.\".format(name, age))"
   ]
  },
  {
   "cell_type": "code",
   "execution_count": 13,
   "metadata": {},
   "outputs": [
    {
     "name": "stdout",
     "output_type": "stream",
     "text": [
      "당신의 이름은 철수이며, 나이는 32입니다.\n"
     ]
    }
   ],
   "source": [
    "# 모든 인자가 지정되었을 때\n",
    "print_with_arguments(\"철수\", 32)"
   ]
  },
  {
   "cell_type": "code",
   "execution_count": 14,
   "metadata": {},
   "outputs": [
    {
     "name": "stdout",
     "output_type": "stream",
     "text": [
      "당신의 이름은 철수이며, 나이는 20입니다.\n"
     ]
    }
   ],
   "source": [
    "# 인자는 기본적으로 순서대로 채워들어간다. \n",
    "print_with_arguments(\"철수\")"
   ]
  },
  {
   "cell_type": "code",
   "execution_count": 15,
   "metadata": {},
   "outputs": [
    {
     "name": "stdout",
     "output_type": "stream",
     "text": [
      "당신의 이름은 '미상'이며, 나이는 20입니다.\n"
     ]
    }
   ],
   "source": [
    "# 기본값으로 이름에는 \"\", age에는 20\n",
    "print_with_arguments()"
   ]
  },
  {
   "cell_type": "code",
   "execution_count": 16,
   "metadata": {},
   "outputs": [
    {
     "name": "stdout",
     "output_type": "stream",
     "text": [
      "당신의 이름은 철수이며, 나이는 32입니다.\n"
     ]
    }
   ],
   "source": [
    "# 인자를 넣을 때, 다음과 같이 인자를 지정할 수 있다.\n",
    "print_with_arguments(name='철수',age=32) "
   ]
  },
  {
   "cell_type": "code",
   "execution_count": 17,
   "metadata": {},
   "outputs": [
    {
     "name": "stdout",
     "output_type": "stream",
     "text": [
      "당신의 이름은 '미상'이며, 나이는 32입니다.\n"
     ]
    }
   ],
   "source": [
    "# age에만 값을 지정하고 싶은 경우 아래와 같이 지정할 수 있다.\n",
    "print_with_arguments(age=32) "
   ]
  },
  {
   "cell_type": "markdown",
   "metadata": {},
   "source": [
    "<h1 style = \"background-color: rgba(185, 109, 106, 0.3);\" > II. Python에서의 패키지 </h1>\n",
    "\n",
    "> 파이썬에서는 다른 개발자들이 만들어 놓은 여러 코드들과 함수들을 손쉽게 쓸 수 있도록 `패키지`를 지원한다. 패키지란 코드들의 집합을 디렉토리를 기준으로 모아둔 집합으로, 아래와 같이 `import`를 통해 호출할 수 있다.\n"
   ]
  },
  {
   "cell_type": "markdown",
   "metadata": {},
   "source": [
    "파이썬에서는 다양한 표준 패키지를 지원한다. 자주 사용되는 random 패키지을 이용하며, 패키지를 어떤식으로 사용하는지 익혀보자"
   ]
  },
  {
   "cell_type": "markdown",
   "metadata": {},
   "source": [
    "#### (1) random\n",
    "\n",
    "> 파이썬에서 무작위로 값을 만들어주거나, 고르거나, 섞을 때 주로 이용하는 패키지이다. "
   ]
  },
  {
   "cell_type": "code",
   "execution_count": 25,
   "metadata": {},
   "outputs": [],
   "source": [
    "import random"
   ]
  },
  {
   "cell_type": "markdown",
   "metadata": {},
   "source": [
    "(1) 0~1 사이의 값을 무작위로 반환하기"
   ]
  },
  {
   "cell_type": "code",
   "execution_count": 26,
   "metadata": {},
   "outputs": [
    {
     "data": {
      "text/plain": [
       "0.5366610963252374"
      ]
     },
     "execution_count": 26,
     "metadata": {},
     "output_type": "execute_result"
    }
   ],
   "source": [
    "random.random()"
   ]
  },
  {
   "cell_type": "markdown",
   "metadata": {},
   "source": [
    "(2) a,b 사이의 정수(a<=값<=b) 중 하나를 무작위로 반환하기"
   ]
  },
  {
   "cell_type": "code",
   "execution_count": 27,
   "metadata": {},
   "outputs": [
    {
     "data": {
      "text/plain": [
       "5"
      ]
     },
     "execution_count": 27,
     "metadata": {},
     "output_type": "execute_result"
    }
   ],
   "source": [
    "a = 5\n",
    "b = 10\n",
    "random.randint(a,b)"
   ]
  },
  {
   "cell_type": "markdown",
   "metadata": {},
   "source": [
    "(3) 리스트 중 하나를 꺼내기"
   ]
  },
  {
   "cell_type": "code",
   "execution_count": 28,
   "metadata": {},
   "outputs": [
    {
     "data": {
      "text/plain": [
       "5"
      ]
     },
     "execution_count": 28,
     "metadata": {},
     "output_type": "execute_result"
    }
   ],
   "source": [
    "lst1 = [1,2,3,4,5]\n",
    "random.choice(lst1)"
   ]
  },
  {
   "cell_type": "markdown",
   "metadata": {},
   "source": [
    "(4) 리스트의 순서를 무작위로 섞기"
   ]
  },
  {
   "cell_type": "code",
   "execution_count": 29,
   "metadata": {},
   "outputs": [
    {
     "data": {
      "text/plain": [
       "[5, 4, 1, 2, 3]"
      ]
     },
     "execution_count": 29,
     "metadata": {},
     "output_type": "execute_result"
    }
   ],
   "source": [
    "lst1 = [1,2,3,4,5]\n",
    "random.shuffle(lst1)\n",
    "lst1"
   ]
  },
  {
   "cell_type": "markdown",
   "metadata": {},
   "source": [
    "#### 패키지 내 특정 모듈만 가져오기\n",
    "\n",
    "random 내 다양한 메소드 중 shuffle만 가져오고 싶을 때에는 `from`을 이용하면 된다."
   ]
  },
  {
   "cell_type": "code",
   "execution_count": 30,
   "metadata": {},
   "outputs": [],
   "source": [
    "from random import shuffle"
   ]
  },
  {
   "cell_type": "code",
   "execution_count": 31,
   "metadata": {},
   "outputs": [
    {
     "data": {
      "text/plain": [
       "[3, 5, 2, 4, 1]"
      ]
     },
     "execution_count": 31,
     "metadata": {},
     "output_type": "execute_result"
    }
   ],
   "source": [
    "lst1 = [1,2,3,4,5]\n",
    "shuffle(lst1)\n",
    "lst1"
   ]
  },
  {
   "cell_type": "markdown",
   "metadata": {},
   "source": [
    "#### 패키지의 이름을 바꾸기\n",
    "\n",
    "random같이 조금 치기 긴 이름의 패키지인 경우, `as`를 통해 약어로 바꿀 수 있다."
   ]
  },
  {
   "cell_type": "code",
   "execution_count": 32,
   "metadata": {},
   "outputs": [
    {
     "data": {
      "text/plain": [
       "[1, 4, 3, 5, 2]"
      ]
     },
     "execution_count": 32,
     "metadata": {},
     "output_type": "execute_result"
    }
   ],
   "source": [
    "import random as rd\n",
    "\n",
    "lst1 = [1,2,3,4,5]\n",
    "rd.shuffle(lst1)\n",
    "lst1"
   ]
  },
  {
   "cell_type": "markdown",
   "metadata": {},
   "source": [
    "<hr>\n",
    "\n",
    "Copyright(c) 2019 by Public AI. All rights reserved.<br>\n",
    "Writen by PAI, SangJae Kang ( rocketgrowthsj@publicai.co.kr )  last updated on 2019/01/24\n",
    "<hr>"
   ]
  }
 ],
 "metadata": {
  "kernelspec": {
   "display_name": "Python 3",
   "language": "python",
   "name": "python3"
  },
  "language_info": {
   "codemirror_mode": {
    "name": "ipython",
    "version": 3
   },
   "file_extension": ".py",
   "mimetype": "text/x-python",
   "name": "python",
   "nbconvert_exporter": "python",
   "pygments_lexer": "ipython3",
   "version": "3.6.5"
  }
 },
 "nbformat": 4,
 "nbformat_minor": 2
}
