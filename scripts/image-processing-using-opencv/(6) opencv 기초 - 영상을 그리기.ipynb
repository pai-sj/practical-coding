{
 "cells": [
  {
   "cell_type": "code",
   "execution_count": 64,
   "metadata": {},
   "outputs": [],
   "source": [
    "# 영상처리에 있어서 핵심적인 matplotlib과 opencv , numpy 가져오기\n",
    "%matplotlib inline\n",
    "import matplotlib.pyplot as plt\n",
    "import cv2\n",
    "import numpy as np\n",
    "import os\n",
    "if not os.path.exists(\"len_top.jpg\"):\n",
    "    # 영상처리에 있어서 가장 많이 이용되는 Lena 이미지 활용하기\n",
    "    !wget http://www.lenna.org/len_top.jpg\n",
    "    !wget http://www.topdaily.kr/news/photo/201804/50063_14445_4651.png\n",
    "        \n",
    "    os.rename(\"50063_14445_4651.png\",\"logo.png\")"
   ]
  },
  {
   "cell_type": "markdown",
   "metadata": {},
   "source": [
    "### reference : \n",
    "1. [opencv documentation](https://docs.opencv.org/3.0-beta/modules/imgproc/doc/drawing_functions.html)"
   ]
  },
  {
   "cell_type": "markdown",
   "metadata": {},
   "source": [
    "<h1 style = \"background-color: rgba(185, 109, 106, 0.3);\" > 영상은 어떤 식으로 그릴 수 있는가? </h1>"
   ]
  },
  {
   "cell_type": "markdown",
   "metadata": {},
   "source": [
    "### 1. line을 그리기\n",
    "\n",
    "`cv2.line(img, pt1, pt2, color, thickness, lineType, shift)`\n",
    "\n",
    "**parameters**\n",
    "* img : Image where the circle is drawn.\n",
    "* pt1 : First point of the line segment\n",
    "* pt2 : Second point of the line segment\n",
    "* color : Line Color\n",
    "* thickness : Line Thickness\n",
    "* lineType :\n",
    "    * LINE_8 : 8-connected line\n",
    "    * LINE_4 : 4-connected line\n",
    "    * LINE_AA : antialiased line.\n",
    "* shift : Number of fractional bits in the point coordinates"
   ]
  },
  {
   "cell_type": "code",
   "execution_count": 23,
   "metadata": {},
   "outputs": [
    {
     "data": {
      "image/png": "[encoded data removed]",
      "text/plain": [
       "<Figure size 432x288 with 1 Axes>"
      ]
     },
     "metadata": {},
     "output_type": "display_data"
    }
   ],
   "source": [
    "canvas = np.zeros((300,400,3),dtype=np.uint8)\n",
    "\n",
    "cv2.line(canvas, (0,0), (200,200), \n",
    "         (100,100,100), 10, cv2.LINE_8,0)\n",
    "\n",
    "plt.imshow(canvas)\n",
    "plt.show()"
   ]
  },
  {
   "cell_type": "markdown",
   "metadata": {},
   "source": [
    "### 2. 직사각형 그리기\n",
    "\n",
    "`cv2.rectangle(img, pt1, pt2, color[, thickness[, lineType[, shift]]])`\n",
    "\n",
    "**parameters**\n",
    "* img : Image where the circle is drawn.\n",
    "* pt1 : Vertex of the rectangle\n",
    "* pt2 : Vertex of the rectangle opposite to pt1\n",
    "* color : Rectangle color \n",
    "* thickness : Line Thickness (if you want to fill, cv2.FILLED)\n",
    "* lineType :\n",
    "    * LINE_8 : 8-connected line\n",
    "    * LINE_4 : 4-connected line\n",
    "    * LINE_AA : antialiased line.\n",
    "* shift : Number of fractional bits in the point coordinates"
   ]
  },
  {
   "cell_type": "code",
   "execution_count": 30,
   "metadata": {},
   "outputs": [
    {
     "data": {
      "image/png": "[encoded data removed]",
      "text/plain": [
       "<Figure size 432x288 with 1 Axes>"
      ]
     },
     "metadata": {},
     "output_type": "display_data"
    }
   ],
   "source": [
    "canvas = np.zeros((300,400,3),dtype=np.uint8)\n",
    "\n",
    "cv2.rectangle(canvas, (20,20), (200,150), \n",
    "         (150,50,100), cv2.FILLED, cv2.LINE_8,0)\n",
    "\n",
    "plt.imshow(canvas)\n",
    "plt.show()"
   ]
  },
  {
   "cell_type": "markdown",
   "metadata": {},
   "source": [
    "### 3. Polygon 그리기\n",
    "\n",
    "`cv2.polylines(img, pts, isClosed, color[, thickness[, lineType[, shift]]])`\n",
    "\n",
    "**parameters**\n",
    "* img : Image where the circle is drawn.\n",
    "* pts : Array of polygonal curves.\n",
    "* isClosed : Flag indicating whether the drawn polylines are closed or not. If they are closed, the function draws a line from the last vertex of each curve to its first vertex.\n",
    "* color : Rectangle color \n",
    "* thickness : Thickness of the polyline edges.\n",
    "\n",
    "* lineType :\n",
    "    * LINE_8 : 8-connected line\n",
    "    * LINE_4 : 4-connected line\n",
    "    * LINE_AA : antialiased line.\n",
    "* shift : Number of fractional bits in the point coordinates"
   ]
  },
  {
   "cell_type": "code",
   "execution_count": 44,
   "metadata": {},
   "outputs": [
    {
     "data": {
      "text/plain": [
       "<matplotlib.image.AxesImage at 0x11edf5d30>"
      ]
     },
     "execution_count": 44,
     "metadata": {},
     "output_type": "execute_result"
    },
    {
     "data": {
      "image/png": "[encoded data removed]",
      "text/plain": [
       "<Figure size 432x288 with 1 Axes>"
      ]
     },
     "metadata": {},
     "output_type": "display_data"
    }
   ],
   "source": [
    "canvas = np.zeros((300,400,3),dtype=np.uint8)\n",
    "\n",
    "pts = np.array([[10,5], \n",
    "                [20,30], \n",
    "                [70,20], \n",
    "                [50,10]], np.int32) # 각 꼭지점은 2차원 행렬로 선언\n",
    "# 이미지에 표현하기 위해 3차원 행렬로 변환. 변환이전과 이후의 행렬 갯수는 동일해야함.\n",
    "# -1은 원본에 해당하는 값을 그대로 유지.\n",
    "\n",
    "canvas = cv2.polylines(canvas, [pts], True, (0,255,255),thickness=1)\n",
    "plt.imshow(canvas)"
   ]
  },
  {
   "cell_type": "markdown",
   "metadata": {},
   "source": [
    "> polylines은 안쪽 색을 채울 수 있는 방법이 없다. 그렇기 때문에 우리는 별도의 메소드를 이용해야한다."
   ]
  },
  {
   "cell_type": "code",
   "execution_count": 48,
   "metadata": {},
   "outputs": [
    {
     "data": {
      "image/png": "[encoded data removed]",
      "text/plain": [
       "<Figure size 432x288 with 1 Axes>"
      ]
     },
     "metadata": {},
     "output_type": "display_data"
    }
   ],
   "source": [
    "canvas = np.zeros((300,400,3),dtype=np.uint8)\n",
    "\n",
    "pts = np.array([[10,5], \n",
    "                [20,30], \n",
    "                [70,20], \n",
    "                [50,10]], np.int32) # 각 꼭지점은 2차원 행렬로 선언\n",
    "# 이미지에 표현하기 위해 3차원 행렬로 변환. 변환이전과 이후의 행렬 갯수는 동일해야함.\n",
    "# -1은 원본에 해당하는 값을 그대로 유지.\n",
    "\n",
    "canvas = cv2.fillPoly(canvas, [pts], (0,255,255))\n",
    "plt.imshow(canvas)\n",
    "plt.show()"
   ]
  },
  {
   "cell_type": "markdown",
   "metadata": {},
   "source": [
    "### 4. 원 그리기\n",
    "\n",
    "`cv2.circle(img, center, radian, color, thickness))`\n",
    "\n",
    "**parameters**\n",
    "* img : Image where the circle is drawn.\n",
    "* center : Center of the circle.\n",
    "* radius : Radius of the circle.\n",
    "* color : Circle color.\n",
    "* thickness : Thickness of the circle outline, if positive. Negative thickness means that a filled circle is to be drawn.\n",
    "* lineType : Type of the circle boundary. See the line() description.\n",
    "* shift : Number of fractional bits in the coordinates of the center and in the radius value.\n"
   ]
  },
  {
   "cell_type": "code",
   "execution_count": 49,
   "metadata": {},
   "outputs": [
    {
     "data": {
      "image/png": "[encoded data removed]",
      "text/plain": [
       "<Figure size 432x288 with 1 Axes>"
      ]
     },
     "metadata": {},
     "output_type": "display_data"
    }
   ],
   "source": [
    "canvas = np.zeros((300,400,3),dtype=np.uint8)\n",
    "\n",
    "cv2.circle(canvas, (50,50), 30, \n",
    "         (100,100,255), 10, cv2.LINE_8,0)\n",
    "\n",
    "plt.imshow(canvas)\n",
    "plt.show()"
   ]
  },
  {
   "cell_type": "markdown",
   "metadata": {},
   "source": [
    "### 5. 이미지에 Text 추가\n",
    "\n",
    "`cv2.putText(img, text, org, font, fontSacle, color)`\n",
    "\n",
    "* img : Image\n",
    "* text : Text string to be drawn.\n",
    "* org - Bottom-left corner of the text string in the image.\n",
    "* font - CvFont\n",
    "    * CV_FONT_HERSHEY_SIMPLEX normal size sans-serif font\n",
    "    * CV_FONT_HERSHEY_PLAIN small size sans-serif font\n",
    "    * CV_FONT_HERSHEY_DUPLEX normal size sans-serif font (more complex than CV_FONT_HERSHEY_SIMPLEX )\n",
    "    * CV_FONT_HERSHEY_COMPLEX normal size serif font\n",
    "    * CV_FONT_HERSHEY_TRIPLEX normal size serif font (more complex than CV_FONT_HERSHEY_COMPLEX )\n",
    "    * CV_FONT_HERSHEY_COMPLEX_SMALL smaller version of CV_FONT_HERSHEY_COMPLEX\n",
    "    * CV_FONT_HERSHEY_SCRIPT_SIMPLEX hand-writing style font\n",
    "    * CV_FONT_HERSHEY_SCRIPT_COMPLEX more complex variant of CV_FONT_HERSHEY_SCRIPT_SIMPLEX\n",
    "* fontScale :  Font scale factor that is multiplied by the font-specific base size.\n",
    "* color : Text Color\n",
    "* thickness : Thickness of the lines used to draw a text.\n",
    "* lineType : Line type. See the line for details\n",
    "* bottomLeftOrigin : When true, the image data origin is at the bottom-left corner. \n"
   ]
  },
  {
   "cell_type": "code",
   "execution_count": 59,
   "metadata": {},
   "outputs": [
    {
     "data": {
      "image/png": "[encoded data removed]",
      "text/plain": [
       "<Figure size 432x288 with 1 Axes>"
      ]
     },
     "metadata": {},
     "output_type": "display_data"
    }
   ],
   "source": [
    "canvas = np.zeros((300,400,3),dtype=np.uint8)\n",
    "\n",
    "cv2.putText(canvas, 'OpenCV', \n",
    "            (10,200), cv2.FONT_HERSHEY_SIMPLEX, \n",
    "            2, (255,255,255),2)\n",
    "\n",
    "plt.imshow(canvas)\n",
    "plt.show()"
   ]
  },
  {
   "cell_type": "markdown",
   "metadata": {},
   "source": [
    "<hr>\n",
    "\n",
    "Copyright(c) 2019 by Public AI. All rights reserved. last updated on 2019/02/01<br>\n",
    "Writen by PAI, SangJae Kang(rocketgrowthsj@publicai.co.kr) \n",
    "<hr>"
   ]
  }
 ],
 "metadata": {
  "kernelspec": {
   "display_name": "Python 3",
   "language": "python",
   "name": "python3"
  },
  "language_info": {
   "codemirror_mode": {
    "name": "ipython",
    "version": 3
   },
   "file_extension": ".py",
   "mimetype": "text/x-python",
   "name": "python",
   "nbconvert_exporter": "python",
   "pygments_lexer": "ipython3",
   "version": "3.6.5"
  }
 },
 "nbformat": 4,
 "nbformat_minor": 2
}
